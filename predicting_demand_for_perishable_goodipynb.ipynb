{
  "cells": [
    {
      "cell_type": "markdown",
      "metadata": {
        "id": "6kIEz_jIKk5V"
      },
      "source": [
        "Importing library"
      ]
    },
    {
      "cell_type": "code",
      "execution_count": 64,
      "metadata": {
        "id": "nIyO70EtO1eg"
      },
      "outputs": [],
      "source": [
        "import pandas as pd\n",
        "import numpy as np\n",
        "import matplotlib.pyplot as plt\n",
        "import seaborn as sns\n",
        "from sklearn.model_selection import train_test_split\n",
        "from sklearn.metrics import r2_score, mean_absolute_error,mean_squared_error, root_mean_squared_error"
      ]
    },
    {
      "cell_type": "markdown",
      "metadata": {
        "id": "KmfZQy5TXgLo"
      },
      "source": [
        "READING DATA"
      ]
    },
    {
      "cell_type": "code",
      "execution_count": 65,
      "metadata": {
        "id": "qQWFUw4FfNdn"
      },
      "outputs": [],
      "source": [
        "product_detail = pd.read_csv(\"product_details.csv\")\n",
        "store_info = pd.read_csv(\"store_info.csv\")\n",
        "supplier_info = pd.read_csv(\"supplier_info.csv\")\n",
        "weather_data = pd.read_csv(\"weather_data.csv\")\n",
        "weekly_sales = pd.read_csv(\"weekly_sales.csv\")\n"
      ]
    },
    {
      "cell_type": "markdown",
      "metadata": {
        "id": "zcrW6O67g6Nm"
      },
      "source": [
        "# New Section"
      ]
    },
    {
      "cell_type": "code",
      "execution_count": 66,
      "metadata": {
        "colab": {
          "base_uri": "https://localhost:8080/",
          "height": 313
        },
        "id": "5d5ec0d7",
        "outputId": "51138987-7f5f-44d0-ed87-d3392eba0428"
      },
      "outputs": [
        {
          "data": {
            "text/html": [
              "<div>\n",
              "<style scoped>\n",
              "    .dataframe tbody tr th:only-of-type {\n",
              "        vertical-align: middle;\n",
              "    }\n",
              "\n",
              "    .dataframe tbody tr th {\n",
              "        vertical-align: top;\n",
              "    }\n",
              "\n",
              "    .dataframe thead th {\n",
              "        text-align: right;\n",
              "    }\n",
              "</style>\n",
              "<table border=\"1\" class=\"dataframe\">\n",
              "  <thead>\n",
              "    <tr style=\"text-align: right;\">\n",
              "      <th></th>\n",
              "      <th>Product_ID</th>\n",
              "      <th>Product_Name</th>\n",
              "      <th>Product_Category</th>\n",
              "      <th>Shelf_Life_Days</th>\n",
              "      <th>Supplier_ID</th>\n",
              "    </tr>\n",
              "  </thead>\n",
              "  <tbody>\n",
              "    <tr>\n",
              "      <th>0</th>\n",
              "      <td>1000</td>\n",
              "      <td>Whole Wheat Bread 800g</td>\n",
              "      <td>Bakery</td>\n",
              "      <td>4</td>\n",
              "      <td>4</td>\n",
              "    </tr>\n",
              "    <tr>\n",
              "      <th>1</th>\n",
              "      <td>1001</td>\n",
              "      <td>White Sandwich Loaf</td>\n",
              "      <td>Bakery</td>\n",
              "      <td>2</td>\n",
              "      <td>8</td>\n",
              "    </tr>\n",
              "    <tr>\n",
              "      <th>2</th>\n",
              "      <td>1002</td>\n",
              "      <td>Croissant 4-pack</td>\n",
              "      <td>Bakery</td>\n",
              "      <td>2</td>\n",
              "      <td>5</td>\n",
              "    </tr>\n",
              "    <tr>\n",
              "      <th>3</th>\n",
              "      <td>1003</td>\n",
              "      <td>Blueberry Muffins 6-pack</td>\n",
              "      <td>Bakery</td>\n",
              "      <td>4</td>\n",
              "      <td>10</td>\n",
              "    </tr>\n",
              "    <tr>\n",
              "      <th>4</th>\n",
              "      <td>1004</td>\n",
              "      <td>Chocolate Chip Cookies</td>\n",
              "      <td>Bakery</td>\n",
              "      <td>4</td>\n",
              "      <td>7</td>\n",
              "    </tr>\n",
              "  </tbody>\n",
              "</table>\n",
              "</div>"
            ],
            "text/plain": [
              "   Product_ID              Product_Name Product_Category  Shelf_Life_Days  \\\n",
              "0        1000    Whole Wheat Bread 800g           Bakery                4   \n",
              "1        1001       White Sandwich Loaf           Bakery                2   \n",
              "2        1002          Croissant 4-pack           Bakery                2   \n",
              "3        1003  Blueberry Muffins 6-pack           Bakery                4   \n",
              "4        1004    Chocolate Chip Cookies           Bakery                4   \n",
              "\n",
              "   Supplier_ID  \n",
              "0            4  \n",
              "1            8  \n",
              "2            5  \n",
              "3           10  \n",
              "4            7  "
            ]
          },
          "metadata": {},
          "output_type": "display_data"
        }
      ],
      "source": [
        "display(product_detail.head())"
      ]
    },
    {
      "cell_type": "markdown",
      "metadata": {
        "id": "cK8q3MHf42QZ"
      },
      "source": [
        "STORE INFO"
      ]
    },
    {
      "cell_type": "code",
      "execution_count": 67,
      "metadata": {
        "colab": {
          "base_uri": "https://localhost:8080/",
          "height": 206
        },
        "id": "KmTpfAt3E-1e",
        "outputId": "d8ed528d-55ea-4c8b-b0d1-cbea7b5e290c"
      },
      "outputs": [
        {
          "data": {
            "text/html": [
              "<div>\n",
              "<style scoped>\n",
              "    .dataframe tbody tr th:only-of-type {\n",
              "        vertical-align: middle;\n",
              "    }\n",
              "\n",
              "    .dataframe tbody tr th {\n",
              "        vertical-align: top;\n",
              "    }\n",
              "\n",
              "    .dataframe thead th {\n",
              "        text-align: right;\n",
              "    }\n",
              "</style>\n",
              "<table border=\"1\" class=\"dataframe\">\n",
              "  <thead>\n",
              "    <tr style=\"text-align: right;\">\n",
              "      <th></th>\n",
              "      <th>Store_ID</th>\n",
              "      <th>Region</th>\n",
              "      <th>Store_Size</th>\n",
              "      <th>Cold_Storage_Capacity</th>\n",
              "    </tr>\n",
              "  </thead>\n",
              "  <tbody>\n",
              "    <tr>\n",
              "      <th>0</th>\n",
              "      <td>500</td>\n",
              "      <td>London</td>\n",
              "      <td>12000</td>\n",
              "      <td>3788</td>\n",
              "    </tr>\n",
              "    <tr>\n",
              "      <th>1</th>\n",
              "      <td>501</td>\n",
              "      <td>Midlands</td>\n",
              "      <td>5000</td>\n",
              "      <td>1086</td>\n",
              "    </tr>\n",
              "    <tr>\n",
              "      <th>2</th>\n",
              "      <td>502</td>\n",
              "      <td>North East</td>\n",
              "      <td>4000</td>\n",
              "      <td>998</td>\n",
              "    </tr>\n",
              "    <tr>\n",
              "      <th>3</th>\n",
              "      <td>503</td>\n",
              "      <td>Midlands</td>\n",
              "      <td>5000</td>\n",
              "      <td>1243</td>\n",
              "    </tr>\n",
              "    <tr>\n",
              "      <th>4</th>\n",
              "      <td>504</td>\n",
              "      <td>London</td>\n",
              "      <td>10000</td>\n",
              "      <td>3330</td>\n",
              "    </tr>\n",
              "  </tbody>\n",
              "</table>\n",
              "</div>"
            ],
            "text/plain": [
              "   Store_ID      Region  Store_Size  Cold_Storage_Capacity\n",
              "0       500      London       12000                   3788\n",
              "1       501    Midlands        5000                   1086\n",
              "2       502  North East        4000                    998\n",
              "3       503    Midlands        5000                   1243\n",
              "4       504      London       10000                   3330"
            ]
          },
          "execution_count": 67,
          "metadata": {},
          "output_type": "execute_result"
        }
      ],
      "source": [
        "store_info.head()"
      ]
    },
    {
      "cell_type": "code",
      "execution_count": 68,
      "metadata": {
        "colab": {
          "base_uri": "https://localhost:8080/",
          "height": 206
        },
        "id": "qWgEubgGFD-_",
        "outputId": "7a4cea6f-4733-4bf2-baa4-7b65280fd7c5"
      },
      "outputs": [
        {
          "data": {
            "text/html": [
              "<div>\n",
              "<style scoped>\n",
              "    .dataframe tbody tr th:only-of-type {\n",
              "        vertical-align: middle;\n",
              "    }\n",
              "\n",
              "    .dataframe tbody tr th {\n",
              "        vertical-align: top;\n",
              "    }\n",
              "\n",
              "    .dataframe thead th {\n",
              "        text-align: right;\n",
              "    }\n",
              "</style>\n",
              "<table border=\"1\" class=\"dataframe\">\n",
              "  <thead>\n",
              "    <tr style=\"text-align: right;\">\n",
              "      <th></th>\n",
              "      <th>Supplier_ID</th>\n",
              "      <th>Supplier_Name</th>\n",
              "      <th>Lead_Time_Days</th>\n",
              "      <th>Supply_Capacity</th>\n",
              "    </tr>\n",
              "  </thead>\n",
              "  <tbody>\n",
              "    <tr>\n",
              "      <th>0</th>\n",
              "      <td>1</td>\n",
              "      <td>FreshFoods UK Ltd.</td>\n",
              "      <td>1</td>\n",
              "      <td>68047</td>\n",
              "    </tr>\n",
              "    <tr>\n",
              "      <th>1</th>\n",
              "      <td>2</td>\n",
              "      <td>Quality Provisions Co.</td>\n",
              "      <td>2</td>\n",
              "      <td>35230</td>\n",
              "    </tr>\n",
              "    <tr>\n",
              "      <th>2</th>\n",
              "      <td>3</td>\n",
              "      <td>FarmDirect Suppliers Ltd.</td>\n",
              "      <td>2</td>\n",
              "      <td>71976</td>\n",
              "    </tr>\n",
              "    <tr>\n",
              "      <th>3</th>\n",
              "      <td>4</td>\n",
              "      <td>PremiumGoods Wholesale</td>\n",
              "      <td>3</td>\n",
              "      <td>48776</td>\n",
              "    </tr>\n",
              "    <tr>\n",
              "      <th>4</th>\n",
              "      <td>5</td>\n",
              "      <td>LocalHarvest Distributors</td>\n",
              "      <td>2</td>\n",
              "      <td>11306</td>\n",
              "    </tr>\n",
              "  </tbody>\n",
              "</table>\n",
              "</div>"
            ],
            "text/plain": [
              "   Supplier_ID              Supplier_Name  Lead_Time_Days  Supply_Capacity\n",
              "0            1         FreshFoods UK Ltd.               1            68047\n",
              "1            2     Quality Provisions Co.               2            35230\n",
              "2            3  FarmDirect Suppliers Ltd.               2            71976\n",
              "3            4     PremiumGoods Wholesale               3            48776\n",
              "4            5  LocalHarvest Distributors               2            11306"
            ]
          },
          "execution_count": 68,
          "metadata": {},
          "output_type": "execute_result"
        }
      ],
      "source": [
        "supplier_info.head()"
      ]
    },
    {
      "cell_type": "code",
      "execution_count": 69,
      "metadata": {
        "colab": {
          "base_uri": "https://localhost:8080/",
          "height": 206
        },
        "id": "tBK7Sk-QFPsi",
        "outputId": "bc98515a-31d6-4bd4-ffd7-c4892dfe36cc"
      },
      "outputs": [
        {
          "data": {
            "text/html": [
              "<div>\n",
              "<style scoped>\n",
              "    .dataframe tbody tr th:only-of-type {\n",
              "        vertical-align: middle;\n",
              "    }\n",
              "\n",
              "    .dataframe tbody tr th {\n",
              "        vertical-align: top;\n",
              "    }\n",
              "\n",
              "    .dataframe thead th {\n",
              "        text-align: right;\n",
              "    }\n",
              "</style>\n",
              "<table border=\"1\" class=\"dataframe\">\n",
              "  <thead>\n",
              "    <tr style=\"text-align: right;\">\n",
              "      <th></th>\n",
              "      <th>Week_Number</th>\n",
              "      <th>Region</th>\n",
              "      <th>Avg_Temperature</th>\n",
              "      <th>Rainfall</th>\n",
              "      <th>Holiday_Flag</th>\n",
              "    </tr>\n",
              "  </thead>\n",
              "  <tbody>\n",
              "    <tr>\n",
              "      <th>0</th>\n",
              "      <td>2024-W01</td>\n",
              "      <td>Midlands</td>\n",
              "      <td>7.4</td>\n",
              "      <td>32.1</td>\n",
              "      <td>0</td>\n",
              "    </tr>\n",
              "    <tr>\n",
              "      <th>1</th>\n",
              "      <td>2024-W01</td>\n",
              "      <td>South East</td>\n",
              "      <td>10.5</td>\n",
              "      <td>15.7</td>\n",
              "      <td>0</td>\n",
              "    </tr>\n",
              "    <tr>\n",
              "      <th>2</th>\n",
              "      <td>2024-W01</td>\n",
              "      <td>North West</td>\n",
              "      <td>6.8</td>\n",
              "      <td>28.5</td>\n",
              "      <td>1</td>\n",
              "    </tr>\n",
              "    <tr>\n",
              "      <th>3</th>\n",
              "      <td>2024-W01</td>\n",
              "      <td>London</td>\n",
              "      <td>9.9</td>\n",
              "      <td>23.0</td>\n",
              "      <td>1</td>\n",
              "    </tr>\n",
              "    <tr>\n",
              "      <th>4</th>\n",
              "      <td>2024-W01</td>\n",
              "      <td>South West</td>\n",
              "      <td>10.0</td>\n",
              "      <td>45.9</td>\n",
              "      <td>1</td>\n",
              "    </tr>\n",
              "  </tbody>\n",
              "</table>\n",
              "</div>"
            ],
            "text/plain": [
              "  Week_Number      Region  Avg_Temperature  Rainfall  Holiday_Flag\n",
              "0    2024-W01    Midlands              7.4      32.1             0\n",
              "1    2024-W01  South East             10.5      15.7             0\n",
              "2    2024-W01  North West              6.8      28.5             1\n",
              "3    2024-W01      London              9.9      23.0             1\n",
              "4    2024-W01  South West             10.0      45.9             1"
            ]
          },
          "execution_count": 69,
          "metadata": {},
          "output_type": "execute_result"
        }
      ],
      "source": [
        "weather_data.head()"
      ]
    },
    {
      "cell_type": "code",
      "execution_count": 70,
      "metadata": {
        "colab": {
          "base_uri": "https://localhost:8080/",
          "height": 226
        },
        "id": "F9oUGjRPFTWK",
        "outputId": "3b68549b-fc45-4c8b-dc6c-0299548125b9"
      },
      "outputs": [
        {
          "data": {
            "text/html": [
              "<div>\n",
              "<style scoped>\n",
              "    .dataframe tbody tr th:only-of-type {\n",
              "        vertical-align: middle;\n",
              "    }\n",
              "\n",
              "    .dataframe tbody tr th {\n",
              "        vertical-align: top;\n",
              "    }\n",
              "\n",
              "    .dataframe thead th {\n",
              "        text-align: right;\n",
              "    }\n",
              "</style>\n",
              "<table border=\"1\" class=\"dataframe\">\n",
              "  <thead>\n",
              "    <tr style=\"text-align: right;\">\n",
              "      <th></th>\n",
              "      <th>Week_Number</th>\n",
              "      <th>Product_ID</th>\n",
              "      <th>Store_ID</th>\n",
              "      <th>Units_Sold</th>\n",
              "      <th>Marketing_Spend</th>\n",
              "      <th>Discount_Percent</th>\n",
              "      <th>Wastage_Units</th>\n",
              "      <th>Price</th>\n",
              "    </tr>\n",
              "  </thead>\n",
              "  <tbody>\n",
              "    <tr>\n",
              "      <th>0</th>\n",
              "      <td>2024-W01</td>\n",
              "      <td>1000</td>\n",
              "      <td>500</td>\n",
              "      <td>4853</td>\n",
              "      <td>670.37</td>\n",
              "      <td>0</td>\n",
              "      <td>718</td>\n",
              "      <td>2.46</td>\n",
              "    </tr>\n",
              "    <tr>\n",
              "      <th>1</th>\n",
              "      <td>2024-W01</td>\n",
              "      <td>1001</td>\n",
              "      <td>500</td>\n",
              "      <td>4274</td>\n",
              "      <td>1089.62</td>\n",
              "      <td>0</td>\n",
              "      <td>641</td>\n",
              "      <td>1.27</td>\n",
              "    </tr>\n",
              "    <tr>\n",
              "      <th>2</th>\n",
              "      <td>2024-W01</td>\n",
              "      <td>1002</td>\n",
              "      <td>500</td>\n",
              "      <td>4215</td>\n",
              "      <td>1004.99</td>\n",
              "      <td>10</td>\n",
              "      <td>632</td>\n",
              "      <td>2.74</td>\n",
              "    </tr>\n",
              "    <tr>\n",
              "      <th>3</th>\n",
              "      <td>2024-W01</td>\n",
              "      <td>1003</td>\n",
              "      <td>500</td>\n",
              "      <td>5768</td>\n",
              "      <td>859.45</td>\n",
              "      <td>20</td>\n",
              "      <td>853</td>\n",
              "      <td>1.82</td>\n",
              "    </tr>\n",
              "    <tr>\n",
              "      <th>4</th>\n",
              "      <td>2024-W01</td>\n",
              "      <td>1004</td>\n",
              "      <td>500</td>\n",
              "      <td>3403</td>\n",
              "      <td>576.70</td>\n",
              "      <td>0</td>\n",
              "      <td>503</td>\n",
              "      <td>3.46</td>\n",
              "    </tr>\n",
              "  </tbody>\n",
              "</table>\n",
              "</div>"
            ],
            "text/plain": [
              "  Week_Number  Product_ID  Store_ID  Units_Sold  Marketing_Spend  \\\n",
              "0    2024-W01        1000       500        4853           670.37   \n",
              "1    2024-W01        1001       500        4274          1089.62   \n",
              "2    2024-W01        1002       500        4215          1004.99   \n",
              "3    2024-W01        1003       500        5768           859.45   \n",
              "4    2024-W01        1004       500        3403           576.70   \n",
              "\n",
              "   Discount_Percent  Wastage_Units  Price  \n",
              "0                 0            718   2.46  \n",
              "1                 0            641   1.27  \n",
              "2                10            632   2.74  \n",
              "3                20            853   1.82  \n",
              "4                 0            503   3.46  "
            ]
          },
          "execution_count": 70,
          "metadata": {},
          "output_type": "execute_result"
        }
      ],
      "source": [
        "weekly_sales.head()"
      ]
    },
    {
      "cell_type": "markdown",
      "metadata": {
        "id": "tajqo5-cFayB"
      },
      "source": [
        "Exploratary Data Analysis Stage 1"
      ]
    },
    {
      "cell_type": "code",
      "execution_count": 71,
      "metadata": {
        "id": "bKA8enAVNlkj"
      },
      "outputs": [],
      "source": [
        "def Eda_Stage_1(data,name):\n",
        "  print(\"=\"*100)\n",
        "  print(f\"{name} dataset information\")\n",
        "  print(data.info())\n",
        "  print(\"=\"*100)\n",
        "  print(f\"{name} dataset description\")\n",
        "  print(data.describe())\n",
        "  print(\"=\"*100)\n",
        "  print(f\"{name} dataset shape\")\n",
        "  print(data.shape)\n",
        "  print(\"=\"*100)\n",
        "  print(f\"{name} dataset colums\")\n",
        "  print(data.columns)\n",
        "  print(\"=\"*100)\n",
        "  print(f\"{name} dataset misising values\")\n",
        "  print(data.isna().sum())\n",
        "  print(\"=\"*100)\n",
        "  print(f\"{name} dataset duplicate values\")\n",
        "  print(data.duplicated().sum())\n",
        "  print(\"=\"*100)"
      ]
    },
    {
      "cell_type": "code",
      "execution_count": 72,
      "metadata": {
        "colab": {
          "base_uri": "https://localhost:8080/"
        },
        "id": "S-7UKLJjR4cT",
        "outputId": "94af9367-b81f-49ae-ef8d-51935ff37a91"
      },
      "outputs": [
        {
          "name": "stdout",
          "output_type": "stream",
          "text": [
            "====================================================================================================\n",
            "product_detail dataset information\n",
            "<class 'pandas.core.frame.DataFrame'>\n",
            "RangeIndex: 48 entries, 0 to 47\n",
            "Data columns (total 5 columns):\n",
            " #   Column            Non-Null Count  Dtype \n",
            "---  ------            --------------  ----- \n",
            " 0   Product_ID        48 non-null     int64 \n",
            " 1   Product_Name      48 non-null     object\n",
            " 2   Product_Category  48 non-null     object\n",
            " 3   Shelf_Life_Days   48 non-null     int64 \n",
            " 4   Supplier_ID       48 non-null     int64 \n",
            "dtypes: int64(3), object(2)\n",
            "memory usage: 2.0+ KB\n",
            "None\n",
            "====================================================================================================\n",
            "product_detail dataset description\n",
            "       Product_ID  Shelf_Life_Days  Supplier_ID\n",
            "count       48.00        48.000000    48.000000\n",
            "mean      1023.50        59.916667     5.958333\n",
            "std         14.00        99.226333     2.782608\n",
            "min       1000.00         2.000000     1.000000\n",
            "25%       1011.75         4.000000     4.000000\n",
            "50%       1023.50         7.500000     6.000000\n",
            "75%       1035.25        36.250000     8.000000\n",
            "max       1047.00       356.000000    10.000000\n",
            "====================================================================================================\n",
            "product_detail dataset shape\n",
            "(48, 5)\n",
            "====================================================================================================\n",
            "product_detail dataset colums\n",
            "Index(['Product_ID', 'Product_Name', 'Product_Category', 'Shelf_Life_Days',\n",
            "       'Supplier_ID'],\n",
            "      dtype='object')\n",
            "====================================================================================================\n",
            "product_detail dataset misising values\n",
            "Product_ID          0\n",
            "Product_Name        0\n",
            "Product_Category    0\n",
            "Shelf_Life_Days     0\n",
            "Supplier_ID         0\n",
            "dtype: int64\n",
            "====================================================================================================\n",
            "product_detail dataset duplicate values\n",
            "0\n",
            "====================================================================================================\n"
          ]
        }
      ],
      "source": [
        "Eda_Stage_1(product_detail,\"product_detail\")"
      ]
    },
    {
      "cell_type": "code",
      "execution_count": 73,
      "metadata": {
        "colab": {
          "base_uri": "https://localhost:8080/"
        },
        "id": "2J9CQJlzUFG1",
        "outputId": "663b0b5e-c9ed-484a-f18b-bed716202670"
      },
      "outputs": [
        {
          "name": "stdout",
          "output_type": "stream",
          "text": [
            "====================================================================================================\n",
            "product_detail dataset information\n",
            "<class 'pandas.core.frame.DataFrame'>\n",
            "RangeIndex: 48 entries, 0 to 47\n",
            "Data columns (total 5 columns):\n",
            " #   Column            Non-Null Count  Dtype \n",
            "---  ------            --------------  ----- \n",
            " 0   Product_ID        48 non-null     int64 \n",
            " 1   Product_Name      48 non-null     object\n",
            " 2   Product_Category  48 non-null     object\n",
            " 3   Shelf_Life_Days   48 non-null     int64 \n",
            " 4   Supplier_ID       48 non-null     int64 \n",
            "dtypes: int64(3), object(2)\n",
            "memory usage: 2.0+ KB\n",
            "None\n",
            "====================================================================================================\n",
            "product_detail dataset description\n",
            "       Product_ID  Shelf_Life_Days  Supplier_ID\n",
            "count       48.00        48.000000    48.000000\n",
            "mean      1023.50        59.916667     5.958333\n",
            "std         14.00        99.226333     2.782608\n",
            "min       1000.00         2.000000     1.000000\n",
            "25%       1011.75         4.000000     4.000000\n",
            "50%       1023.50         7.500000     6.000000\n",
            "75%       1035.25        36.250000     8.000000\n",
            "max       1047.00       356.000000    10.000000\n",
            "====================================================================================================\n",
            "product_detail dataset shape\n",
            "(48, 5)\n",
            "====================================================================================================\n",
            "product_detail dataset colums\n",
            "Index(['Product_ID', 'Product_Name', 'Product_Category', 'Shelf_Life_Days',\n",
            "       'Supplier_ID'],\n",
            "      dtype='object')\n",
            "====================================================================================================\n",
            "product_detail dataset misising values\n",
            "Product_ID          0\n",
            "Product_Name        0\n",
            "Product_Category    0\n",
            "Shelf_Life_Days     0\n",
            "Supplier_ID         0\n",
            "dtype: int64\n",
            "====================================================================================================\n",
            "product_detail dataset duplicate values\n",
            "0\n",
            "====================================================================================================\n"
          ]
        }
      ],
      "source": [
        "Eda_Stage_1(product_detail,\"product_detail\")"
      ]
    },
    {
      "cell_type": "code",
      "execution_count": 74,
      "metadata": {
        "colab": {
          "base_uri": "https://localhost:8080/"
        },
        "id": "0g5022LvU076",
        "outputId": "1e2a31b8-55d7-43f8-f1c1-f934f9393d72"
      },
      "outputs": [
        {
          "name": "stdout",
          "output_type": "stream",
          "text": [
            "====================================================================================================\n",
            "supplier_info dataset information\n",
            "<class 'pandas.core.frame.DataFrame'>\n",
            "RangeIndex: 10 entries, 0 to 9\n",
            "Data columns (total 4 columns):\n",
            " #   Column           Non-Null Count  Dtype \n",
            "---  ------           --------------  ----- \n",
            " 0   Supplier_ID      10 non-null     int64 \n",
            " 1   Supplier_Name    10 non-null     object\n",
            " 2   Lead_Time_Days   10 non-null     int64 \n",
            " 3   Supply_Capacity  10 non-null     int64 \n",
            "dtypes: int64(3), object(1)\n",
            "memory usage: 452.0+ bytes\n",
            "None\n",
            "====================================================================================================\n",
            "supplier_info dataset description\n",
            "       Supplier_ID  Lead_Time_Days  Supply_Capacity\n",
            "count     10.00000       10.000000        10.000000\n",
            "mean       5.50000        2.200000     48161.200000\n",
            "std        3.02765        0.632456     18121.601841\n",
            "min        1.00000        1.000000     11306.000000\n",
            "25%        3.25000        2.000000     38162.250000\n",
            "50%        5.50000        2.000000     51262.000000\n",
            "75%        7.75000        2.750000     58185.500000\n",
            "max       10.00000        3.000000     71976.000000\n",
            "====================================================================================================\n",
            "supplier_info dataset shape\n",
            "(10, 4)\n",
            "====================================================================================================\n",
            "supplier_info dataset colums\n",
            "Index(['Supplier_ID', 'Supplier_Name', 'Lead_Time_Days', 'Supply_Capacity'], dtype='object')\n",
            "====================================================================================================\n",
            "supplier_info dataset misising values\n",
            "Supplier_ID        0\n",
            "Supplier_Name      0\n",
            "Lead_Time_Days     0\n",
            "Supply_Capacity    0\n",
            "dtype: int64\n",
            "====================================================================================================\n",
            "supplier_info dataset duplicate values\n",
            "0\n",
            "====================================================================================================\n"
          ]
        }
      ],
      "source": [
        "Eda_Stage_1(supplier_info,\"supplier_info\")"
      ]
    },
    {
      "cell_type": "code",
      "execution_count": 75,
      "metadata": {
        "colab": {
          "base_uri": "https://localhost:8080/"
        },
        "id": "MpZtJ4lSVH8U",
        "outputId": "5d492932-fec1-4265-90e8-bdd9ddd7fe59"
      },
      "outputs": [
        {
          "name": "stdout",
          "output_type": "stream",
          "text": [
            "====================================================================================================\n",
            "weekly_sales dataset information\n",
            "<class 'pandas.core.frame.DataFrame'>\n",
            "RangeIndex: 37440 entries, 0 to 37439\n",
            "Data columns (total 8 columns):\n",
            " #   Column            Non-Null Count  Dtype  \n",
            "---  ------            --------------  -----  \n",
            " 0   Week_Number       37440 non-null  object \n",
            " 1   Product_ID        37440 non-null  int64  \n",
            " 2   Store_ID          37440 non-null  int64  \n",
            " 3   Units_Sold        37440 non-null  int64  \n",
            " 4   Marketing_Spend   37440 non-null  float64\n",
            " 5   Discount_Percent  37440 non-null  int64  \n",
            " 6   Wastage_Units     37440 non-null  int64  \n",
            " 7   Price             37440 non-null  float64\n",
            "dtypes: float64(2), int64(5), object(1)\n",
            "memory usage: 2.3+ MB\n",
            "None\n",
            "====================================================================================================\n",
            "weekly_sales dataset description\n",
            "         Product_ID      Store_ID    Units_Sold  Marketing_Spend  \\\n",
            "count  37440.000000  37440.000000  37440.000000     37440.000000   \n",
            "mean    1023.500000    507.000000   1642.154087       410.551195   \n",
            "std       13.853584      4.320551   1166.477872       239.093420   \n",
            "min     1000.000000    500.000000    194.000000       100.030000   \n",
            "25%     1011.750000    503.000000    799.000000       242.672500   \n",
            "50%     1023.500000    507.000000   1344.000000       348.630000   \n",
            "75%     1035.250000    511.000000   2131.000000       549.070000   \n",
            "max     1047.000000    514.000000  10413.000000      1972.700000   \n",
            "\n",
            "       Discount_Percent  Wastage_Units         Price  \n",
            "count      37440.000000   37440.000000  37440.000000  \n",
            "mean           2.896234     127.844284      4.162083  \n",
            "std            6.154093     130.960266      2.641350  \n",
            "min            0.000000       6.000000      0.420000  \n",
            "25%            0.000000      42.000000      2.160000  \n",
            "50%            0.000000      83.000000      3.480000  \n",
            "75%            0.000000     167.000000      5.560000  \n",
            "max           25.000000    1541.000000     12.000000  \n",
            "====================================================================================================\n",
            "weekly_sales dataset shape\n",
            "(37440, 8)\n",
            "====================================================================================================\n",
            "weekly_sales dataset colums\n",
            "Index(['Week_Number', 'Product_ID', 'Store_ID', 'Units_Sold',\n",
            "       'Marketing_Spend', 'Discount_Percent', 'Wastage_Units', 'Price'],\n",
            "      dtype='object')\n",
            "====================================================================================================\n",
            "weekly_sales dataset misising values\n",
            "Week_Number         0\n",
            "Product_ID          0\n",
            "Store_ID            0\n",
            "Units_Sold          0\n",
            "Marketing_Spend     0\n",
            "Discount_Percent    0\n",
            "Wastage_Units       0\n",
            "Price               0\n",
            "dtype: int64\n",
            "====================================================================================================\n",
            "weekly_sales dataset duplicate values\n",
            "0\n",
            "====================================================================================================\n"
          ]
        }
      ],
      "source": [
        "Eda_Stage_1(weekly_sales,\"weekly_sales\")"
      ]
    },
    {
      "cell_type": "code",
      "execution_count": 76,
      "metadata": {
        "colab": {
          "base_uri": "https://localhost:8080/"
        },
        "id": "cmM9p1txVVNX",
        "outputId": "b11306d8-2d94-4320-8914-30d126005799"
      },
      "outputs": [
        {
          "name": "stdout",
          "output_type": "stream",
          "text": [
            "====================================================================================================\n",
            "weather_data dataset information\n",
            "<class 'pandas.core.frame.DataFrame'>\n",
            "RangeIndex: 364 entries, 0 to 363\n",
            "Data columns (total 5 columns):\n",
            " #   Column           Non-Null Count  Dtype  \n",
            "---  ------           --------------  -----  \n",
            " 0   Week_Number      364 non-null    object \n",
            " 1   Region           364 non-null    object \n",
            " 2   Avg_Temperature  364 non-null    float64\n",
            " 3   Rainfall         364 non-null    float64\n",
            " 4   Holiday_Flag     364 non-null    int64  \n",
            "dtypes: float64(2), int64(1), object(2)\n",
            "memory usage: 14.3+ KB\n",
            "None\n",
            "====================================================================================================\n",
            "weather_data dataset description\n",
            "       Avg_Temperature    Rainfall  Holiday_Flag\n",
            "count       364.000000  364.000000    364.000000\n",
            "mean         10.015110   20.847253      0.148352\n",
            "std           6.136098   10.459884      0.355937\n",
            "min          -2.000000    6.600000      0.000000\n",
            "25%           4.500000   12.550000      0.000000\n",
            "50%           9.700000   18.600000      0.000000\n",
            "75%          15.525000   27.825000      0.000000\n",
            "max          22.000000   58.300000      1.000000\n",
            "====================================================================================================\n",
            "weather_data dataset shape\n",
            "(364, 5)\n",
            "====================================================================================================\n",
            "weather_data dataset colums\n",
            "Index(['Week_Number', 'Region', 'Avg_Temperature', 'Rainfall', 'Holiday_Flag'], dtype='object')\n",
            "====================================================================================================\n",
            "weather_data dataset misising values\n",
            "Week_Number        0\n",
            "Region             0\n",
            "Avg_Temperature    0\n",
            "Rainfall           0\n",
            "Holiday_Flag       0\n",
            "dtype: int64\n",
            "====================================================================================================\n",
            "weather_data dataset duplicate values\n",
            "0\n",
            "====================================================================================================\n"
          ]
        }
      ],
      "source": [
        "Eda_Stage_1(weather_data,\"weather_data\")"
      ]
    },
    {
      "cell_type": "code",
      "execution_count": 77,
      "metadata": {
        "colab": {
          "base_uri": "https://localhost:8080/"
        },
        "id": "4u6FaasPV0Rv",
        "outputId": "38aa0126-026c-42c7-c0e8-5145113cfb3d"
      },
      "outputs": [
        {
          "name": "stdout",
          "output_type": "stream",
          "text": [
            "====================================================================================================\n",
            "store_info dataset information\n",
            "<class 'pandas.core.frame.DataFrame'>\n",
            "RangeIndex: 15 entries, 0 to 14\n",
            "Data columns (total 4 columns):\n",
            " #   Column                 Non-Null Count  Dtype \n",
            "---  ------                 --------------  ----- \n",
            " 0   Store_ID               15 non-null     int64 \n",
            " 1   Region                 15 non-null     object\n",
            " 2   Store_Size             15 non-null     int64 \n",
            " 3   Cold_Storage_Capacity  15 non-null     int64 \n",
            "dtypes: int64(3), object(1)\n",
            "memory usage: 612.0+ bytes\n",
            "None\n",
            "====================================================================================================\n",
            "store_info dataset description\n",
            "         Store_ID    Store_Size  Cold_Storage_Capacity\n",
            "count   15.000000     15.000000              15.000000\n",
            "mean   507.000000   5333.333333            1527.066667\n",
            "std      4.472136   2894.987458             965.651628\n",
            "min    500.000000   3000.000000             634.000000\n",
            "25%    503.500000   3500.000000             999.500000\n",
            "50%    507.000000   4000.000000            1086.000000\n",
            "75%    510.500000   5000.000000            1509.500000\n",
            "max    514.000000  12000.000000            3788.000000\n",
            "====================================================================================================\n",
            "store_info dataset shape\n",
            "(15, 4)\n",
            "====================================================================================================\n",
            "store_info dataset colums\n",
            "Index(['Store_ID', 'Region', 'Store_Size', 'Cold_Storage_Capacity'], dtype='object')\n",
            "====================================================================================================\n",
            "store_info dataset misising values\n",
            "Store_ID                 0\n",
            "Region                   0\n",
            "Store_Size               0\n",
            "Cold_Storage_Capacity    0\n",
            "dtype: int64\n",
            "====================================================================================================\n",
            "store_info dataset duplicate values\n",
            "0\n",
            "====================================================================================================\n"
          ]
        }
      ],
      "source": [
        "Eda_Stage_1(store_info,\"store_info\")"
      ]
    },
    {
      "cell_type": "markdown",
      "metadata": {
        "id": "hWUUWK6FV7qI"
      },
      "source": [
        "Stage 2"
      ]
    },
    {
      "cell_type": "code",
      "execution_count": 78,
      "metadata": {
        "colab": {
          "base_uri": "https://localhost:8080/",
          "height": 241
        },
        "id": "1gkWGx6yX8ew",
        "outputId": "88288f8b-16d5-42a9-badd-909a23d1dc6f"
      },
      "outputs": [
        {
          "data": {
            "text/plain": [
              "Product_Category\n",
              "Bakery       12\n",
              "Meat         12\n",
              "Dairy        12\n",
              "Beverages    12\n",
              "Name: count, dtype: int64"
            ]
          },
          "execution_count": 78,
          "metadata": {},
          "output_type": "execute_result"
        }
      ],
      "source": [
        "product_detail[\"Product_Category\"].value_counts()"
      ]
    },
    {
      "cell_type": "code",
      "execution_count": 79,
      "metadata": {
        "colab": {
          "base_uri": "https://localhost:8080/"
        },
        "id": "U8CJkEnNWZzy",
        "outputId": "c071ee33-9d92-4e02-9b2c-da39e0d5ea22"
      },
      "outputs": [
        {
          "name": "stdout",
          "output_type": "stream",
          "text": [
            "we have the total number of 48 product in the store\n",
            "we have the total number of 4\n"
          ]
        }
      ],
      "source": [
        "print(f\"we have the total number of {len(product_detail)} product in the store\")\n",
        "print(f\"we have the total number of {len(product_detail[\"Product_Category\"].value_counts())}\")"
      ]
    },
    {
      "cell_type": "code",
      "execution_count": 80,
      "metadata": {
        "colab": {
          "base_uri": "https://localhost:8080/"
        },
        "id": "u1uWw4oBYF-v",
        "outputId": "e799e549-b7ac-498e-f0a3-03169e8fd522"
      },
      "outputs": [
        {
          "name": "stdout",
          "output_type": "stream",
          "text": [
            "the sales for 52 weeks is: 37440\n",
            "The total number of units sold in 364 days is 61,482,249\n",
            "The total number of unit wasted or expired units in 364 days is 4,786,490\n",
            "The average number of unit sold is 1642.15\n",
            "The average number of unit wasted or expired units is 127.84\n"
          ]
        }
      ],
      "source": [
        "print(\"the sales for 52 weeks is:\" ,len(weekly_sales))\n",
        "print(f\"The total number of units sold in {len(weather_data)} days is {weekly_sales['Units_Sold'].sum():,}\")\n",
        "print(f\"The total number of unit wasted or expired units in {len(weather_data)} days is {weekly_sales['Wastage_Units'].sum():,}\")\n",
        "print(f\"The average number of unit sold is {weekly_sales['Units_Sold'].mean():.2f}\")\n",
        "print(f\"The average number of unit wasted or expired units is {weekly_sales['Wastage_Units'].mean():.2f}\")"
      ]
    },
    {
      "cell_type": "markdown",
      "metadata": {
        "id": "izLvzfsTkbKt"
      },
      "source": [
        "Regional Store Distribution- Bar Chat"
      ]
    },
    {
      "cell_type": "code",
      "execution_count": 81,
      "metadata": {
        "colab": {
          "base_uri": "https://localhost:8080/",
          "height": 303
        },
        "id": "clqqBNmZkhsn",
        "outputId": "03985685-12b3-44e7-902e-fa2a6655d267"
      },
      "outputs": [
        {
          "data": {
            "text/plain": [
              "Region\n",
              "South West    4\n",
              "London        3\n",
              "Midlands      3\n",
              "North East    2\n",
              "North West    2\n",
              "South East    1\n",
              "Name: count, dtype: int64"
            ]
          },
          "execution_count": 81,
          "metadata": {},
          "output_type": "execute_result"
        }
      ],
      "source": [
        "store_info ['Region'].value_counts()"
      ]
    },
    {
      "cell_type": "code",
      "execution_count": 82,
      "metadata": {
        "colab": {
          "base_uri": "https://localhost:8080/",
          "height": 525
        },
        "id": "Pvt9NyWCkyKy",
        "outputId": "f21ba42c-4d90-4796-936f-6e90e83858b4"
      },
      "outputs": [
        {
          "data": {
            "text/plain": [
              "Text(0, 0.5, 'Good Wastage Rate')"
            ]
          },
          "execution_count": 82,
          "metadata": {},
          "output_type": "execute_result"
        },
        {
          "data": {
            "image/png": "[encoded data removed]",
            "text/plain": [
              "<Figure size 1500x1200 with 4 Axes>"
            ]
          },
          "metadata": {},
          "output_type": "display_data"
        }
      ],
      "source": [
        "# sale performance by region\n",
        "plt.figure(figsize=(15,12))\n",
        "\n",
        "#total number os store per region\n",
        "plt.subplot(2,2,1)\n",
        "region_store_count = store_info['Region'].value_counts()\n",
        "sns.barplot(x=region_store_count.index, y=region_store_count)\n",
        "plt.title(\"number of store in regions\")\n",
        "plt.xlabel(\"Region\")\n",
        "plt.ylabel(\"number of store\")\n",
        "\n",
        "plt.subplot(2,2,2)\n",
        "store_size_by_region = store_info.groupby('Region')['Store_Size'].mean()\n",
        "sns.barplot(x=store_size_by_region.index, y=store_size_by_region.values)\n",
        "plt.title(\"Average Store Size by Region\")\n",
        "plt.xlabel(\"Region\")\n",
        "plt.ylabel(\"Average Store Size per sq ft\")\n",
        "\n",
        "#sales performance per region\n",
        "plt.subplot(2,2,3)\n",
        "region_sales = weekly_sales.merge(store_info, on=\"Store_ID\")\n",
        "store_region_performance = region_sales.groupby('Region')['Units_Sold'].sum().sort_values(ascending=False)\n",
        "sns.barplot(x=store_region_performance.index, y=store_region_performance.values)\n",
        "plt.title(\"Units Sold per Region\")\n",
        "plt.xlabel(\"Region\")\n",
        "plt.ylabel(\"Units Sold\")\n",
        "\n",
        "#wastage rate per region\n",
        "plt.subplot(2,2,4)\n",
        "Good_wastage__by_region = region_sales.groupby('Region')['Wastage_Units'].sum().sort_values(ascending=False)\n",
        "sns.barplot(x=Good_wastage__by_region.index, y=Good_wastage__by_region.values)\n",
        "plt.title(\"Good Wastage Rate per Region\")\n",
        "plt.xlabel(\"Region\")\n",
        "plt.ylabel(\"Good Wastage Rate\")"
      ]
    },
    {
      "cell_type": "markdown",
      "metadata": {
        "id": "SFm2Rjmz053m"
      },
      "source": [
        "AVERAGE PRICE PER PRODUCT ACROSS ALL CATEGORY"
      ]
    },
    {
      "cell_type": "markdown",
      "metadata": {
        "id": "SKgfi7LS1Kpa"
      },
      "source": [
        "Discount Performance"
      ]
    },
    {
      "cell_type": "code",
      "execution_count": 83,
      "metadata": {
        "colab": {
          "base_uri": "https://localhost:8080/",
          "height": 453
        },
        "id": "4Pa36mLI3iRb",
        "outputId": "5b3bc3ea-ef79-4e80-d182-7b03f7e0ada4"
      },
      "outputs": [
        {
          "name": "stdout",
          "output_type": "stream",
          "text": [
            "[0 1 2 3 4 5]\n"
          ]
        },
        {
          "name": "stderr",
          "output_type": "stream",
          "text": [
            "C:\\Users\\Admin\\AppData\\Local\\Temp\\ipykernel_18596\\1418167886.py:7: FutureWarning: \n",
            "\n",
            "Passing `palette` without assigning `hue` is deprecated and will be removed in v0.14.0. Assign the `x` variable to `hue` and set `legend=False` for the same effect.\n",
            "\n",
            "  sns.barplot(x=price_per_category.index, y=price_per_category.values, palette=[\"blue\",\"green\", \"yellow\",\"red\"])\n"
          ]
        },
        {
          "data": {
            "text/plain": [
              "<matplotlib.legend.Legend at 0x166d3fb0e10>"
            ]
          },
          "execution_count": 83,
          "metadata": {},
          "output_type": "execute_result"
        },
        {
          "data": {
            "image/png": "[encoded data removed]",
            "text/plain": [
              "<Figure size 1700x1500 with 2 Axes>"
            ]
          },
          "metadata": {},
          "output_type": "display_data"
        }
      ],
      "source": [
        "plt.figure(figsize=(17,15))\n",
        "\n",
        "plt.subplot(2,2,1)\n",
        "# average price per product across all category\n",
        "category_price = weekly_sales.merge(product_detail, on=\"Product_ID\")\n",
        "price_per_category = category_price.groupby('Product_Category')['Price'].mean()\n",
        "sns.barplot(x=price_per_category.index, y=price_per_category.values, palette=[\"blue\",\"green\", \"yellow\",\"red\"])\n",
        "plt.title(\"Average Price per Product Category\")\n",
        "plt.xlabel(\"Product Category\")\n",
        "plt.ylabel(\"Average Price (£)\")\n",
        "plt.xticks(rotation=45)\n",
        "\n",
        "for i, (cat, val) in enumerate(zip(price_per_category.index, price_per_category.values)):\n",
        "    plt.text(i, val + 0.2, f\"£{val:.2f}\", ha=\"center\", va=\"bottom\", fontweight=\"bold\", fontsize=9)\n",
        "#discount performance\n",
        "# we are trying to get how the sales perform by each discount percentage\n",
        "# in this plot we used aggregation, why is aggregate used\n",
        "\n",
        "plt.subplot(2,2,2)\n",
        "\n",
        "discount_performance = weekly_sales.groupby(\"Discount_Percent\").agg({\n",
        "    'Units_Sold':'mean','Wastage_Units': 'mean'}).reset_index()\n",
        "\n",
        "x = np.arange(len(discount_performance))\n",
        "print(x)\n",
        "width = 0.35\n",
        "\n",
        "bars1 = plt.bar(x - width/2, discount_performance['Units_Sold'], width, label='Units Sold')\n",
        "bars2 = plt.bar(x + width/2, discount_performance['Wastage_Units'], width, label='Wastage Units')\n",
        "\n",
        "plt.title(\"Discount Performance\")\n",
        "plt.xlabel(\"Discount Percentage\")\n",
        "plt.ylabel(\"Average Units Sold\")\n",
        "plt.xticks(x, discount_performance['Discount_Percent'])\n",
        "plt.legend()\n",
        "\n"
      ]
    },
    {
      "cell_type": "code",
      "execution_count": 84,
      "metadata": {
        "colab": {
          "base_uri": "https://localhost:8080/",
          "height": 498
        },
        "id": "NzbVJYlFIjJ1",
        "outputId": "a8f1736a-ceaf-4ac3-8ba7-ac3f3f4d2674"
      },
      "outputs": [
        {
          "data": {
            "image/png": "[encoded data removed]",
            "text/plain": [
              "<Figure size 1500x1200 with 4 Axes>"
            ]
          },
          "metadata": {},
          "output_type": "display_data"
        }
      ],
      "source": [
        "# cell sales performance by product Category - Comparison Bars\n",
        "plt.figure(figsize=(15,12))\n",
        "\n",
        "# merge sales with product details\n",
        "sales_with_category = weekly_sales.merge(product_detail, on=\"Product_ID\")\n",
        "\n",
        "# calculate metrics by category\n",
        "category_metrics = sales_with_category.groupby('Product_Category').agg({\n",
        "    'Units_Sold': 'mean',\n",
        "    'Wastage_Units': 'mean',\n",
        "    'Price': 'mean',\n",
        "    'Marketing_Spend': 'mean'\n",
        "}).reset_index()\n",
        "\n",
        "plt.subplot(2,2,1)\n",
        "plt.bar(category_metrics['Product_Category'], category_metrics['Units_Sold'], color='lightblue')\n",
        "plt.title('Total Units Sold by Category', fontsize=14, fontweight='bold')\n",
        "plt.xlabel('Product Category')\n",
        "plt.ylabel('Total Units Sold')\n",
        "plt.xticks(rotation=45)\n",
        "\n",
        "plt.subplot(2,2,2)\n",
        "plt.bar(category_metrics['Product_Category'], category_metrics['Wastage_Units'], color='indigo')\n",
        "plt.title('Total Wastage Units by Category', fontsize=14, fontweight='bold')\n",
        "plt.xlabel('Product Category')\n",
        "plt.ylabel('Wastage Units')\n",
        "plt.xticks(rotation=45)\n",
        "\n",
        "plt.subplot(2,2,3)\n",
        "# Wastage rate Calculation\n",
        "category_metrics['Wastage_Rate'] = (category_metrics['Wastage_Units'] / category_metrics['Units_Sold']) *100\n",
        "plt.bar(category_metrics['Product_Category'], category_metrics['Wastage_Rate'], color='orange')\n",
        "plt.title('Wastage Rate by Category (%)', fontsize=14, fontweight='bold')\n",
        "plt.xlabel('Product Category')\n",
        "plt.ylabel('Wastage Rate (%)')\n",
        "plt.xticks(rotation=45)\n",
        "\n",
        "plt.subplot(2,2,4)\n",
        "plt.bar(category_metrics['Product_Category'], category_metrics['Marketing_Spend'], color='lightgreen')\n",
        "plt.title('Average Marketing Spend by Category', fontsize=14, fontweight='bold')\n",
        "plt.xlabel('Product Category')\n",
        "plt.ylabel('Average Marketing Spend (£)')\n",
        "plt.xticks(rotation=45)\n",
        "\n",
        "plt.tight_layout()\n",
        "plt.show()"
      ]
    },
    {
      "cell_type": "markdown",
      "metadata": {
        "id": "uwtUxUVoMwpg"
      },
      "source": [
        "SALES PERFORMANCE BY PRODUCT CATEGORY- COMPARISON BARS"
      ]
    },
    {
      "cell_type": "code",
      "execution_count": 85,
      "metadata": {
        "colab": {
          "base_uri": "https://localhost:8080/",
          "height": 536
        },
        "id": "6AF-g7LvQzer",
        "outputId": "cb3f5fa8-7791-44bc-dc46-3dd81627250b"
      },
      "outputs": [
        {
          "name": "stdout",
          "output_type": "stream",
          "text": [
            "Columns in merged data: ['Week_Number', 'Product_ID', 'Store_ID', 'Units_Sold', 'Marketing_Spend', 'Discount_Percent', 'Wastage_Units', 'Price', 'Product_Name', 'Product_Category', 'Shelf_Life_Days', 'Supplier_ID']\n"
          ]
        },
        {
          "data": {
            "image/png": "[encoded data removed]",
            "text/plain": [
              "<Figure size 1500x1200 with 4 Axes>"
            ]
          },
          "metadata": {},
          "output_type": "display_data"
        }
      ],
      "source": [
        "# Assuming you already have these loaded:\n",
        "# weekly_sales (DataFrame), product_detail (DataFrame)\n",
        "\n",
        "# 1. Merge sales with product info\n",
        "sales_with_category = weekly_sales.merge(product_detail, on=\"Product_ID\", how=\"left\")\n",
        "\n",
        "# 2. Check columns — if some are missing, add placeholders\n",
        "print(\"Columns in merged data:\", sales_with_category.columns.tolist())\n",
        "\n",
        "for col in ['Units_Sold', 'Wastage_Units', 'Price', 'Marketing_Spend']:\n",
        "    if col not in sales_with_category.columns:\n",
        "        print(f\"⚠️ Column '{col}' missing — creating placeholder zeros.\")\n",
        "        sales_with_category[col] = 0\n",
        "\n",
        "# 3. Group and compute mean metrics per product category\n",
        "category_metrics = sales_with_category.groupby('Product_Category').agg({\n",
        "    'Units_Sold': 'mean',\n",
        "    'Wastage_Units': 'mean',\n",
        "    'Price': 'mean',\n",
        "    'Marketing_Spend': 'mean'\n",
        "}).reset_index()\n",
        "\n",
        "# 4. Create 2×2 bar charts\n",
        "plt.figure(figsize=(15,12))\n",
        "\n",
        "# Units Sold\n",
        "plt.subplot(2,2,1)\n",
        "plt.bar(category_metrics['Product_Category'], category_metrics['Units_Sold'], color='lightblue')\n",
        "plt.title('Average Units Sold by Category', fontsize=14, fontweight='bold')\n",
        "plt.xlabel('Product Category')\n",
        "plt.ylabel('Average Units Sold')\n",
        "plt.xticks(rotation=45, ha='right')\n",
        "\n",
        "# Wastage Units\n",
        "plt.subplot(2,2,2)\n",
        "plt.bar(category_metrics['Product_Category'], category_metrics['Wastage_Units'], color='indigo')\n",
        "plt.title('Average Wastage Units by Category', fontsize=14, fontweight='bold')\n",
        "plt.xlabel('Product Category')\n",
        "plt.ylabel('Wastage Units')\n",
        "plt.xticks(rotation=45, ha='right')\n",
        "\n",
        "# Wastage Rate (%)\n",
        "category_metrics['Wastage_Rate'] = (\n",
        "    category_metrics['Wastage_Units'] /\n",
        "    category_metrics['Units_Sold'].replace(0, 1)  # avoid division by zero\n",
        ") * 100\n",
        "\n",
        "plt.subplot(2,2,3)\n",
        "plt.bar(category_metrics['Product_Category'], category_metrics['Wastage_Rate'], color='orange')\n",
        "plt.title('Wastage Rate by Category (%)', fontsize=14, fontweight='bold')\n",
        "plt.xlabel('Product Category')\n",
        "plt.ylabel('Wastage Rate (%)')\n",
        "plt.xticks(rotation=45, ha='right')\n",
        "\n",
        "# Marketing Spend\n",
        "plt.subplot(2,2,4)\n",
        "plt.bar(category_metrics['Product_Category'], category_metrics['Marketing_Spend'], color='lightgreen')\n",
        "plt.title('Average Marketing Spend by Category', fontsize=14, fontweight='bold')\n",
        "plt.xlabel('Product Category')\n",
        "plt.ylabel('Marketing Spend (£)')\n",
        "plt.xticks(rotation=45, ha='right')\n",
        "\n",
        "plt.tight_layout()\n",
        "plt.show()\n",
        "\n",
        "#"
      ]
    },
    {
      "cell_type": "code",
      "execution_count": 86,
      "metadata": {
        "colab": {
          "base_uri": "https://localhost:8080/",
          "height": 213
        },
        "id": "o2N8IYl4RiWe",
        "outputId": "55800643-8517-44cc-f041-57f3a346d206"
      },
      "outputs": [
        {
          "ename": "IndentationError",
          "evalue": "unexpected indent (3927393372.py, line 1)",
          "output_type": "error",
          "traceback": [
            "  \u001b[36mCell\u001b[39m\u001b[36m \u001b[39m\u001b[32mIn[86]\u001b[39m\u001b[32m, line 1\u001b[39m\n\u001b[31m    \u001b[39m\u001b[31m5.#Show the summary table\u001b[39m\n    ^\n\u001b[31mIndentationError\u001b[39m\u001b[31m:\u001b[39m unexpected indent\n"
          ]
        }
      ],
      "source": [
        " 5.#Show the summary table\n",
        "print(\"Category metrics summary:\")\n",
        "display(category_metrics)\n"
      ]
    },
    {
      "cell_type": "code",
      "execution_count": null,
      "metadata": {
        "id": "aoiT3dQFYm_1"
      },
      "outputs": [],
      "source": []
    },
    {
      "cell_type": "markdown",
      "metadata": {
        "id": "0d8e3134"
      },
      "source": [
        "# Task\n",
        "Analyze the provided weekly sales, product details, and store information datasets to extract business insights and generate strategic recommendations, covering overall business performance, category performance, regional performance, pricing strategy, promotion effectiveness, marketing spend effectiveness, product performance, seasonal trends, and shelf life impact."
      ]
    },
    {
      "cell_type": "markdown",
      "metadata": {
        "id": "95cd72f3"
      },
      "source": [
        "## Overall business performance\n",
        "\n",
        "### Subtask:\n",
        "Calculate and summarize total units sold, total wastage, and overall wastage rate.\n"
      ]
    },
    {
      "cell_type": "markdown",
      "metadata": {
        "id": "e4a47e81"
      },
      "source": [
        "**Reasoning**:\n",
        "Calculate the total units sold, total wastage units, and overall wastage rate from the `weekly_sales` DataFrame and print the results.\n",
        "\n"
      ]
    },
    {
      "cell_type": "code",
      "execution_count": null,
      "metadata": {
        "colab": {
          "base_uri": "https://localhost:8080/"
        },
        "id": "5ba0c896",
        "outputId": "0fe0948d-1742-48f5-8f21-8519d9ac2cd0"
      },
      "outputs": [
        {
          "name": "stdout",
          "output_type": "stream",
          "text": [
            "Total Units Sold: 61,482,249\n",
            "Total Wastage Units: 4,786,490\n",
            "Overall Wastage Rate: 7.79%\n"
          ]
        }
      ],
      "source": [
        "total_units_sold = weekly_sales['Units_Sold'].sum()\n",
        "total_wastage_units = weekly_sales['Wastage_Units'].sum()\n",
        "overall_wastage_rate = (total_wastage_units / total_units_sold) * 100\n",
        "\n",
        "print(f\"Total Units Sold: {total_units_sold:,}\")\n",
        "print(f\"Total Wastage Units: {total_wastage_units:,}\")\n",
        "print(f\"Overall Wastage Rate: {overall_wastage_rate:.2f}%\")"
      ]
    },
    {
      "cell_type": "markdown",
      "metadata": {
        "id": "8b4a79e7"
      },
      "source": [
        "## Regional Performance\n",
        "\n",
        "### Subtask:\n",
        "Compare performance across regions:\n",
        "- Best sales region.\n",
        "- Region with the highest wastage rate.\n",
        "- Most efficient region (sales per square foot)."
      ]
    },
    {
      "cell_type": "code",
      "execution_count": null,
      "metadata": {
        "colab": {
          "base_uri": "https://localhost:8080/",
          "height": 497
        },
        "id": "4e47f1c7",
        "outputId": "4f246c83-e5e7-4170-c5e6-b2d495cfcc08"
      },
      "outputs": [
        {
          "name": "stdout",
          "output_type": "stream",
          "text": [
            "Best Sales Region:\n"
          ]
        },
        {
          "data": {
            "text/html": [
              "<div>\n",
              "<style scoped>\n",
              "    .dataframe tbody tr th:only-of-type {\n",
              "        vertical-align: middle;\n",
              "    }\n",
              "\n",
              "    .dataframe tbody tr th {\n",
              "        vertical-align: top;\n",
              "    }\n",
              "\n",
              "    .dataframe thead th {\n",
              "        text-align: right;\n",
              "    }\n",
              "</style>\n",
              "<table border=\"1\" class=\"dataframe\">\n",
              "  <thead>\n",
              "    <tr style=\"text-align: right;\">\n",
              "      <th></th>\n",
              "      <th>Units_Sold</th>\n",
              "    </tr>\n",
              "    <tr>\n",
              "      <th>Region</th>\n",
              "      <th></th>\n",
              "    </tr>\n",
              "  </thead>\n",
              "  <tbody>\n",
              "    <tr>\n",
              "      <th>London</th>\n",
              "      <td>20648649</td>\n",
              "    </tr>\n",
              "  </tbody>\n",
              "</table>\n",
              "</div><br><label><b>dtype:</b> int64</label>"
            ],
            "text/plain": [
              "Region\n",
              "London    20648649\n",
              "Name: Units_Sold, dtype: int64"
            ]
          },
          "metadata": {},
          "output_type": "display_data"
        },
        {
          "name": "stdout",
          "output_type": "stream",
          "text": [
            "\n",
            "Region with Highest Wastage Rate:\n"
          ]
        },
        {
          "data": {
            "text/html": [
              "<div>\n",
              "<style scoped>\n",
              "    .dataframe tbody tr th:only-of-type {\n",
              "        vertical-align: middle;\n",
              "    }\n",
              "\n",
              "    .dataframe tbody tr th {\n",
              "        vertical-align: top;\n",
              "    }\n",
              "\n",
              "    .dataframe thead th {\n",
              "        text-align: right;\n",
              "    }\n",
              "</style>\n",
              "<table border=\"1\" class=\"dataframe\">\n",
              "  <thead>\n",
              "    <tr style=\"text-align: right;\">\n",
              "      <th></th>\n",
              "      <th>0</th>\n",
              "    </tr>\n",
              "    <tr>\n",
              "      <th>Region</th>\n",
              "      <th></th>\n",
              "    </tr>\n",
              "  </thead>\n",
              "  <tbody>\n",
              "    <tr>\n",
              "      <th>London</th>\n",
              "      <td>7.812627</td>\n",
              "    </tr>\n",
              "  </tbody>\n",
              "</table>\n",
              "</div><br><label><b>dtype:</b> float64</label>"
            ],
            "text/plain": [
              "Region\n",
              "London    7.812627\n",
              "dtype: float64"
            ]
          },
          "metadata": {},
          "output_type": "display_data"
        },
        {
          "name": "stdout",
          "output_type": "stream",
          "text": [
            "\n",
            "Most Efficient Region (Sales per Square Foot):\n"
          ]
        },
        {
          "data": {
            "text/html": [
              "<div>\n",
              "<style scoped>\n",
              "    .dataframe tbody tr th:only-of-type {\n",
              "        vertical-align: middle;\n",
              "    }\n",
              "\n",
              "    .dataframe tbody tr th {\n",
              "        vertical-align: top;\n",
              "    }\n",
              "\n",
              "    .dataframe thead th {\n",
              "        text-align: right;\n",
              "    }\n",
              "</style>\n",
              "<table border=\"1\" class=\"dataframe\">\n",
              "  <thead>\n",
              "    <tr style=\"text-align: right;\">\n",
              "      <th></th>\n",
              "      <th>0</th>\n",
              "    </tr>\n",
              "    <tr>\n",
              "      <th>Region</th>\n",
              "      <th></th>\n",
              "    </tr>\n",
              "  </thead>\n",
              "  <tbody>\n",
              "    <tr>\n",
              "      <th>North West</th>\n",
              "      <td>0.372568</td>\n",
              "    </tr>\n",
              "  </tbody>\n",
              "</table>\n",
              "</div><br><label><b>dtype:</b> float64</label>"
            ],
            "text/plain": [
              "Region\n",
              "North West    0.372568\n",
              "dtype: float64"
            ]
          },
          "metadata": {},
          "output_type": "display_data"
        }
      ],
      "source": [
        "# Merge weekly_sales with store_info to get region and store size information\n",
        "sales_with_region = weekly_sales.merge(store_info, on='Store_ID')\n",
        "\n",
        "# Calculate total units sold by region\n",
        "regional_sales = sales_with_region.groupby('Region')['Units_Sold'].sum().sort_values(ascending=False)\n",
        "\n",
        "# Calculate total wastage units by region\n",
        "regional_wastage = sales_with_region.groupby('Region')['Wastage_Units'].sum()\n",
        "\n",
        "# Calculate wastage rate by region\n",
        "regional_wastage_rate = ((regional_wastage / regional_sales) * 100).sort_values(ascending=False)\n",
        "\n",
        "# Calculate total sales per square foot by region\n",
        "# First, calculate total sales per store size in each region\n",
        "regional_sales_per_sqft = sales_with_region.groupby('Region').apply(lambda x: x['Units_Sold'].sum() / x['Store_Size'].sum(), include_groups=False).sort_values(ascending=False)\n",
        "\n",
        "\n",
        "print(\"Best Sales Region:\")\n",
        "display(regional_sales.head(1))\n",
        "\n",
        "print(\"\\nRegion with Highest Wastage Rate:\")\n",
        "display(regional_wastage_rate.head(1))\n",
        "\n",
        "print(\"\\nMost Efficient Region (Sales per Square Foot):\")\n",
        "display(regional_sales_per_sqft.head(1))"
      ]
    },
    {
      "cell_type": "markdown",
      "metadata": {
        "id": "887bbf81"
      },
      "source": [
        "Based on the analysis of category performance:\n",
        "\n",
        "*   **Highest Sales:** [Insert Category with Highest Sales]\n",
        "*   **Highest Wastage Rate:** [Insert Category with Highest Wastage Rate]\n",
        "*   **Highest Average Price:** [Insert Category with Highest Average Price]\n",
        "\n",
        "**Category-level Insights and Risks:**\n",
        "\n",
        "*   Categories with high sales but also high wastage rates might require better inventory management or revised pricing strategies.\n",
        "*   Categories with high average prices could be contributing significantly to revenue, but their sales volume might be lower.\n",
        "*   Understanding the reasons behind high wastage in certain categories (e.g., short shelf life, demand fluctuations) is crucial for reducing losses.\n",
        "*   Analyzing the relationship between price, marketing spend, and sales for each category can help optimize strategies.\n",
        "\n",
        "[Further detailed insights and risks can be added after executing the code and observing the results.]"
      ]
    },
    {
      "cell_type": "code",
      "execution_count": null,
      "metadata": {
        "id": "828c59bc"
      },
      "outputs": [],
      "source": [
        "# Reload the weekly_sales DataFrame\n",
        "weekly_sales = pd.read_csv(\"/content/weekly_sales.csv\")"
      ]
    },
    {
      "cell_type": "markdown",
      "metadata": {
        "id": "bd10999a"
      },
      "source": [
        "## Strategic Recommendations\n",
        "\n",
        "Based on the analysis, here are some strategic recommendations:\n",
        "\n",
        "*   **Overall Performance:** [Summarize key findings and recommendations regarding sales and wastage.]\n",
        "*   **Category-Specific Strategies:** [Provide recommendations for categories with high sales, high wastage, or high prices.]\n",
        "*   **Regional Focus:** [Suggest strategies for the best-performing region, region with highest wastage, and most efficient region.]\n",
        "*   **Pricing and Promotion:** [Recommend pricing adjustments or promotional strategies based on the price band and discount analysis.]\n",
        "*   **Marketing Optimization:** [Suggest ways to optimize marketing spend based on the correlation and cost per unit analysis.]\n",
        "*   **Product Portfolio Management:** [Provide recommendations for top-performing and high-wastage products.]\n",
        "*   **Seasonal Planning:** [Suggest strategies to leverage best sales months and mitigate high wastage months.]\n",
        "*   **Shelf Life Management:** [Recommend strategies to reduce wastage for categories with short shelf lives.]"
      ]
    },
    {
      "cell_type": "markdown",
      "metadata": {
        "id": "fe9e544c"
      },
      "source": [
        "## Shelf Life Impact\n",
        "\n",
        "### Subtask:\n",
        "Analyze how shelf life (in days) impacts wastage.\n",
        "Report:\n",
        "- Category with shortest shelf life.\n",
        "- Category with longest shelf life.\n",
        "- Category with highest wastage due to shelf life."
      ]
    },
    {
      "cell_type": "code",
      "execution_count": null,
      "metadata": {
        "colab": {
          "base_uri": "https://localhost:8080/",
          "height": 591
        },
        "id": "471e008a",
        "outputId": "c0d548bc-54db-4c88-842d-e8a7a8d4aad7"
      },
      "outputs": [
        {
          "name": "stdout",
          "output_type": "stream",
          "text": [
            "Category with Shortest Shelf Life:\n"
          ]
        },
        {
          "data": {
            "text/html": [
              "<div>\n",
              "<style scoped>\n",
              "    .dataframe tbody tr th:only-of-type {\n",
              "        vertical-align: middle;\n",
              "    }\n",
              "\n",
              "    .dataframe tbody tr th {\n",
              "        vertical-align: top;\n",
              "    }\n",
              "\n",
              "    .dataframe thead th {\n",
              "        text-align: right;\n",
              "    }\n",
              "</style>\n",
              "<table border=\"1\" class=\"dataframe\">\n",
              "  <thead>\n",
              "    <tr style=\"text-align: right;\">\n",
              "      <th></th>\n",
              "      <th>0</th>\n",
              "    </tr>\n",
              "  </thead>\n",
              "  <tbody>\n",
              "    <tr>\n",
              "      <th>Product_Category</th>\n",
              "      <td>Bakery</td>\n",
              "    </tr>\n",
              "    <tr>\n",
              "      <th>Average_Shelf_Life</th>\n",
              "      <td>3.416667</td>\n",
              "    </tr>\n",
              "    <tr>\n",
              "      <th>Total_Wastage_Units</th>\n",
              "      <td>2622079</td>\n",
              "    </tr>\n",
              "  </tbody>\n",
              "</table>\n",
              "</div><br><label><b>dtype:</b> object</label>"
            ],
            "text/plain": [
              "Product_Category         Bakery\n",
              "Average_Shelf_Life     3.416667\n",
              "Total_Wastage_Units     2622079\n",
              "Name: 0, dtype: object"
            ]
          },
          "metadata": {},
          "output_type": "display_data"
        },
        {
          "name": "stdout",
          "output_type": "stream",
          "text": [
            "\n",
            "Category with Longest Shelf Life:\n"
          ]
        },
        {
          "data": {
            "text/html": [
              "<div>\n",
              "<style scoped>\n",
              "    .dataframe tbody tr th:only-of-type {\n",
              "        vertical-align: middle;\n",
              "    }\n",
              "\n",
              "    .dataframe tbody tr th {\n",
              "        vertical-align: top;\n",
              "    }\n",
              "\n",
              "    .dataframe thead th {\n",
              "        text-align: right;\n",
              "    }\n",
              "</style>\n",
              "<table border=\"1\" class=\"dataframe\">\n",
              "  <thead>\n",
              "    <tr style=\"text-align: right;\">\n",
              "      <th></th>\n",
              "      <th>1</th>\n",
              "    </tr>\n",
              "  </thead>\n",
              "  <tbody>\n",
              "    <tr>\n",
              "      <th>Product_Category</th>\n",
              "      <td>Beverages</td>\n",
              "    </tr>\n",
              "    <tr>\n",
              "      <th>Average_Shelf_Life</th>\n",
              "      <td>216.833333</td>\n",
              "    </tr>\n",
              "    <tr>\n",
              "      <th>Total_Wastage_Units</th>\n",
              "      <td>300994</td>\n",
              "    </tr>\n",
              "  </tbody>\n",
              "</table>\n",
              "</div><br><label><b>dtype:</b> object</label>"
            ],
            "text/plain": [
              "Product_Category        Beverages\n",
              "Average_Shelf_Life     216.833333\n",
              "Total_Wastage_Units        300994\n",
              "Name: 1, dtype: object"
            ]
          },
          "metadata": {},
          "output_type": "display_data"
        },
        {
          "name": "stdout",
          "output_type": "stream",
          "text": [
            "\n",
            "Category with Highest Wastage (Total Units):\n"
          ]
        },
        {
          "data": {
            "text/html": [
              "<div>\n",
              "<style scoped>\n",
              "    .dataframe tbody tr th:only-of-type {\n",
              "        vertical-align: middle;\n",
              "    }\n",
              "\n",
              "    .dataframe tbody tr th {\n",
              "        vertical-align: top;\n",
              "    }\n",
              "\n",
              "    .dataframe thead th {\n",
              "        text-align: right;\n",
              "    }\n",
              "</style>\n",
              "<table border=\"1\" class=\"dataframe\">\n",
              "  <thead>\n",
              "    <tr style=\"text-align: right;\">\n",
              "      <th></th>\n",
              "      <th>0</th>\n",
              "    </tr>\n",
              "  </thead>\n",
              "  <tbody>\n",
              "    <tr>\n",
              "      <th>Product_Category</th>\n",
              "      <td>Bakery</td>\n",
              "    </tr>\n",
              "    <tr>\n",
              "      <th>Average_Shelf_Life</th>\n",
              "      <td>3.416667</td>\n",
              "    </tr>\n",
              "    <tr>\n",
              "      <th>Total_Wastage_Units</th>\n",
              "      <td>2622079</td>\n",
              "    </tr>\n",
              "  </tbody>\n",
              "</table>\n",
              "</div><br><label><b>dtype:</b> object</label>"
            ],
            "text/plain": [
              "Product_Category         Bakery\n",
              "Average_Shelf_Life     3.416667\n",
              "Total_Wastage_Units     2622079\n",
              "Name: 0, dtype: object"
            ]
          },
          "metadata": {},
          "output_type": "display_data"
        }
      ],
      "source": [
        "# Merge weekly_sales with product_detail to get shelf life information\n",
        "sales_with_shelf_life = weekly_sales.merge(product_detail, on='Product_ID')\n",
        "\n",
        "# Calculate average shelf life and total wastage by product category\n",
        "shelf_life_wastage = sales_with_shelf_life.groupby('Product_Category').agg(\n",
        "    Average_Shelf_Life=('Shelf_Life_Days', 'mean'),\n",
        "    Total_Wastage_Units=('Wastage_Units', 'sum')\n",
        ").reset_index()\n",
        "\n",
        "# Identify category with shortest shelf life\n",
        "shortest_shelf_life_category = shelf_life_wastage.loc[shelf_life_wastage['Average_Shelf_Life'].idxmin()]\n",
        "\n",
        "print(\"Category with Shortest Shelf Life:\")\n",
        "display(shortest_shelf_life_category)\n",
        "\n",
        "# Identify category with longest shelf life\n",
        "longest_shelf_life_category = shelf_life_wastage.loc[shelf_life_wastage['Average_Shelf_Life'].idxmax()]\n",
        "\n",
        "print(\"\\nCategory with Longest Shelf Life:\")\n",
        "display(longest_shelf_life_category)\n",
        "\n",
        "# Identify category with highest wastage due to shelf life\n",
        "# This is based on total wastage units, as the task asks for \"highest wastage due to shelf life\"\n",
        "# A more sophisticated analysis would consider wastage rate vs. shelf life.\n",
        "highest_wastage_category = shelf_life_wastage.loc[shelf_life_wastage['Total_Wastage_Units'].idxmax()]\n",
        "\n",
        "print(\"\\nCategory with Highest Wastage (Total Units):\")\n",
        "display(highest_wastage_category)"
      ]
    },
    {
      "cell_type": "markdown",
      "metadata": {
        "id": "5f10f141"
      },
      "source": [
        "## Seasonal Trends\n",
        "\n",
        "### Subtask:\n",
        "Aggregate performance by month.\n",
        "Identify:\n",
        "- Best sales month.\n",
        "- Month with the highest wastage.\n",
        "- Most efficient marketing month."
      ]
    },
    {
      "cell_type": "code",
      "execution_count": null,
      "metadata": {
        "colab": {
          "base_uri": "https://localhost:8080/",
          "height": 1000
        },
        "id": "c47474b3",
        "outputId": "4d9aaa29-3994-44d0-ff59-43358bce44ea"
      },
      "outputs": [
        {
          "name": "stdout",
          "output_type": "stream",
          "text": [
            "Monthly Performance Summary:\n"
          ]
        },
        {
          "data": {
            "application/vnd.google.colaboratory.intrinsic+json": {
              "summary": "{\n  \"name\": \"monthly_performance\",\n  \"rows\": 12,\n  \"fields\": [\n    {\n      \"column\": \"Month\",\n      \"properties\": {\n        \"dtype\": \"period[M]\",\n        \"num_unique_values\": 12,\n        \"samples\": [\n          \"2024-11\",\n          \"2024-10\",\n          \"2024-01\"\n        ],\n        \"semantic_type\": \"\",\n        \"description\": \"\"\n      }\n    },\n    {\n      \"column\": \"Total_Units_Sold\",\n      \"properties\": {\n        \"dtype\": \"number\",\n        \"std\": 645339,\n        \"min\": 4381436,\n        \"max\": 6504602,\n        \"num_unique_values\": 12,\n        \"samples\": [\n          4715356,\n          4618961,\n          6504602\n        ],\n        \"semantic_type\": \"\",\n        \"description\": \"\"\n      }\n    },\n    {\n      \"column\": \"Total_Wastage_Units\",\n      \"properties\": {\n        \"dtype\": \"number\",\n        \"std\": 71752,\n        \"min\": 302190,\n        \"max\": 543425,\n        \"num_unique_values\": 12,\n        \"samples\": [\n          334819,\n          316185,\n          543425\n        ],\n        \"semantic_type\": \"\",\n        \"description\": \"\"\n      }\n    },\n    {\n      \"column\": \"Total_Marketing_Spend\",\n      \"properties\": {\n        \"dtype\": \"number\",\n        \"std\": 202252.6327743176,\n        \"min\": 1067142.05,\n        \"max\": 1629338.4,\n        \"num_unique_values\": 12,\n        \"samples\": [\n          1087707.13,\n          1081362.87,\n          1598882.19\n        ],\n        \"semantic_type\": \"\",\n        \"description\": \"\"\n      }\n    },\n    {\n      \"column\": \"Wastage_Rate\",\n      \"properties\": {\n        \"dtype\": \"number\",\n        \"std\": 0.7305224646175197,\n        \"min\": 6.775953009411728,\n        \"max\": 8.78856367659897,\n        \"num_unique_values\": 12,\n        \"samples\": [\n          7.100609158672219,\n          6.845370636383377,\n          8.354469650871799\n        ],\n        \"semantic_type\": \"\",\n        \"description\": \"\"\n      }\n    },\n    {\n      \"column\": \"Marketing_Efficiency\",\n      \"properties\": {\n        \"dtype\": \"number\",\n        \"std\": 0.35914622178220507,\n        \"min\": 3.2711381503068977,\n        \"max\": 4.413046991562048,\n        \"num_unique_values\": 12,\n        \"samples\": [\n          4.335133851701423,\n          4.271425557639129,\n          4.068218434530189\n        ],\n        \"semantic_type\": \"\",\n        \"description\": \"\"\n      }\n    }\n  ]\n}",
              "type": "dataframe",
              "variable_name": "monthly_performance"
            },
            "text/html": [
              "\n",
              "  <div id=\"df-0b6de6e6-8b28-4d67-8362-b27d53bcc499\" class=\"colab-df-container\">\n",
              "    <div>\n",
              "<style scoped>\n",
              "    .dataframe tbody tr th:only-of-type {\n",
              "        vertical-align: middle;\n",
              "    }\n",
              "\n",
              "    .dataframe tbody tr th {\n",
              "        vertical-align: top;\n",
              "    }\n",
              "\n",
              "    .dataframe thead th {\n",
              "        text-align: right;\n",
              "    }\n",
              "</style>\n",
              "<table border=\"1\" class=\"dataframe\">\n",
              "  <thead>\n",
              "    <tr style=\"text-align: right;\">\n",
              "      <th></th>\n",
              "      <th>Month</th>\n",
              "      <th>Total_Units_Sold</th>\n",
              "      <th>Total_Wastage_Units</th>\n",
              "      <th>Total_Marketing_Spend</th>\n",
              "      <th>Wastage_Rate</th>\n",
              "      <th>Marketing_Efficiency</th>\n",
              "    </tr>\n",
              "  </thead>\n",
              "  <tbody>\n",
              "    <tr>\n",
              "      <th>0</th>\n",
              "      <td>2024-01</td>\n",
              "      <td>6504602</td>\n",
              "      <td>543425</td>\n",
              "      <td>1598882.19</td>\n",
              "      <td>8.354470</td>\n",
              "      <td>4.068218</td>\n",
              "    </tr>\n",
              "    <tr>\n",
              "      <th>1</th>\n",
              "      <td>2024-02</td>\n",
              "      <td>4779449</td>\n",
              "      <td>403577</td>\n",
              "      <td>1083026.99</td>\n",
              "      <td>8.444007</td>\n",
              "      <td>4.413047</td>\n",
              "    </tr>\n",
              "    <tr>\n",
              "      <th>2</th>\n",
              "      <td>2024-03</td>\n",
              "      <td>5043509</td>\n",
              "      <td>443252</td>\n",
              "      <td>1341693.44</td>\n",
              "      <td>8.788564</td>\n",
              "      <td>3.759062</td>\n",
              "    </tr>\n",
              "    <tr>\n",
              "      <th>3</th>\n",
              "      <td>2024-04</td>\n",
              "      <td>5872254</td>\n",
              "      <td>497656</td>\n",
              "      <td>1354092.99</td>\n",
              "      <td>8.474702</td>\n",
              "      <td>4.336670</td>\n",
              "    </tr>\n",
              "    <tr>\n",
              "      <th>4</th>\n",
              "      <td>2024-05</td>\n",
              "      <td>4494979</td>\n",
              "      <td>369459</td>\n",
              "      <td>1067142.05</td>\n",
              "      <td>8.219371</td>\n",
              "      <td>4.212166</td>\n",
              "    </tr>\n",
              "    <tr>\n",
              "      <th>5</th>\n",
              "      <td>2024-06</td>\n",
              "      <td>4651312</td>\n",
              "      <td>363611</td>\n",
              "      <td>1346479.63</td>\n",
              "      <td>7.817386</td>\n",
              "      <td>3.454424</td>\n",
              "    </tr>\n",
              "    <tr>\n",
              "      <th>6</th>\n",
              "      <td>2024-07</td>\n",
              "      <td>5550597</td>\n",
              "      <td>406817</td>\n",
              "      <td>1351689.33</td>\n",
              "      <td>7.329248</td>\n",
              "      <td>4.106415</td>\n",
              "    </tr>\n",
              "    <tr>\n",
              "      <th>7</th>\n",
              "      <td>2024-08</td>\n",
              "      <td>4381436</td>\n",
              "      <td>302190</td>\n",
              "      <td>1076318.53</td>\n",
              "      <td>6.897054</td>\n",
              "      <td>4.070761</td>\n",
              "    </tr>\n",
              "    <tr>\n",
              "      <th>8</th>\n",
              "      <td>2024-09</td>\n",
              "      <td>5540003</td>\n",
              "      <td>375388</td>\n",
              "      <td>1353303.20</td>\n",
              "      <td>6.775953</td>\n",
              "      <td>4.093689</td>\n",
              "    </tr>\n",
              "    <tr>\n",
              "      <th>9</th>\n",
              "      <td>2024-10</td>\n",
              "      <td>4618961</td>\n",
              "      <td>316185</td>\n",
              "      <td>1081362.87</td>\n",
              "      <td>6.845371</td>\n",
              "      <td>4.271426</td>\n",
              "    </tr>\n",
              "    <tr>\n",
              "      <th>10</th>\n",
              "      <td>2024-11</td>\n",
              "      <td>4715356</td>\n",
              "      <td>334819</td>\n",
              "      <td>1087707.13</td>\n",
              "      <td>7.100609</td>\n",
              "      <td>4.335134</td>\n",
              "    </tr>\n",
              "    <tr>\n",
              "      <th>11</th>\n",
              "      <td>2024-12</td>\n",
              "      <td>5329791</td>\n",
              "      <td>430111</td>\n",
              "      <td>1629338.40</td>\n",
              "      <td>8.069941</td>\n",
              "      <td>3.271138</td>\n",
              "    </tr>\n",
              "  </tbody>\n",
              "</table>\n",
              "</div>\n",
              "    <div class=\"colab-df-buttons\">\n",
              "\n",
              "  <div class=\"colab-df-container\">\n",
              "    <button class=\"colab-df-convert\" onclick=\"convertToInteractive('df-0b6de6e6-8b28-4d67-8362-b27d53bcc499')\"\n",
              "            title=\"Convert this dataframe to an interactive table.\"\n",
              "            style=\"display:none;\">\n",
              "\n",
              "  <svg xmlns=\"http://www.w3.org/2000/svg\" height=\"24px\" viewBox=\"0 -960 960 960\">\n",
              "    <path d=\"M120-120v-720h720v720H120Zm60-500h600v-160H180v160Zm220 220h160v-160H400v160Zm0 220h160v-160H400v160ZM180-400h160v-160H180v160Zm440 0h160v-160H620v160ZM180-180h160v-160H180v160Zm440 0h160v-160H620v160Z\"/>\n",
              "  </svg>\n",
              "    </button>\n",
              "\n",
              "  <style>\n",
              "    .colab-df-container {\n",
              "      display:flex;\n",
              "      gap: 12px;\n",
              "    }\n",
              "\n",
              "    .colab-df-convert {\n",
              "      background-color: #E8F0FE;\n",
              "      border: none;\n",
              "      border-radius: 50%;\n",
              "      cursor: pointer;\n",
              "      display: none;\n",
              "      fill: #1967D2;\n",
              "      height: 32px;\n",
              "      padding: 0 0 0 0;\n",
              "      width: 32px;\n",
              "    }\n",
              "\n",
              "    .colab-df-convert:hover {\n",
              "      background-color: #E2EBFA;\n",
              "      box-shadow: 0px 1px 2px rgba(60, 64, 67, 0.3), 0px 1px 3px 1px rgba(60, 64, 67, 0.15);\n",
              "      fill: #174EA6;\n",
              "    }\n",
              "\n",
              "    .colab-df-buttons div {\n",
              "      margin-bottom: 4px;\n",
              "    }\n",
              "\n",
              "    [theme=dark] .colab-df-convert {\n",
              "      background-color: #3B4455;\n",
              "      fill: #D2E3FC;\n",
              "    }\n",
              "\n",
              "    [theme=dark] .colab-df-convert:hover {\n",
              "      background-color: #434B5C;\n",
              "      box-shadow: 0px 1px 3px 1px rgba(0, 0, 0, 0.15);\n",
              "      filter: drop-shadow(0px 1px 2px rgba(0, 0, 0, 0.3));\n",
              "      fill: #FFFFFF;\n",
              "    }\n",
              "  </style>\n",
              "\n",
              "    <script>\n",
              "      const buttonEl =\n",
              "        document.querySelector('#df-0b6de6e6-8b28-4d67-8362-b27d53bcc499 button.colab-df-convert');\n",
              "      buttonEl.style.display =\n",
              "        google.colab.kernel.accessAllowed ? 'block' : 'none';\n",
              "\n",
              "      async function convertToInteractive(key) {\n",
              "        const element = document.querySelector('#df-0b6de6e6-8b28-4d67-8362-b27d53bcc499');\n",
              "        const dataTable =\n",
              "          await google.colab.kernel.invokeFunction('convertToInteractive',\n",
              "                                                    [key], {});\n",
              "        if (!dataTable) return;\n",
              "\n",
              "        const docLinkHtml = 'Like what you see? Visit the ' +\n",
              "          '<a target=\"_blank\" href=https://colab.research.google.com/notebooks/data_table.ipynb>data table notebook</a>'\n",
              "          + ' to learn more about interactive tables.';\n",
              "        element.innerHTML = '';\n",
              "        dataTable['output_type'] = 'display_data';\n",
              "        await google.colab.output.renderOutput(dataTable, element);\n",
              "        const docLink = document.createElement('div');\n",
              "        docLink.innerHTML = docLinkHtml;\n",
              "        element.appendChild(docLink);\n",
              "      }\n",
              "    </script>\n",
              "  </div>\n",
              "\n",
              "\n",
              "    <div id=\"df-f6826265-61fa-4c26-8b47-5d4a39e7d3fa\">\n",
              "      <button class=\"colab-df-quickchart\" onclick=\"quickchart('df-f6826265-61fa-4c26-8b47-5d4a39e7d3fa')\"\n",
              "                title=\"Suggest charts\"\n",
              "                style=\"display:none;\">\n",
              "\n",
              "<svg xmlns=\"http://www.w3.org/2000/svg\" height=\"24px\"viewBox=\"0 0 24 24\"\n",
              "     width=\"24px\">\n",
              "    <g>\n",
              "        <path d=\"M19 3H5c-1.1 0-2 .9-2 2v14c0 1.1.9 2 2 2h14c1.1 0 2-.9 2-2V5c0-1.1-.9-2-2-2zM9 17H7v-7h2v7zm4 0h-2V7h2v10zm4 0h-2v-4h2v4z\"/>\n",
              "    </g>\n",
              "</svg>\n",
              "      </button>\n",
              "\n",
              "<style>\n",
              "  .colab-df-quickchart {\n",
              "      --bg-color: #E8F0FE;\n",
              "      --fill-color: #1967D2;\n",
              "      --hover-bg-color: #E2EBFA;\n",
              "      --hover-fill-color: #174EA6;\n",
              "      --disabled-fill-color: #AAA;\n",
              "      --disabled-bg-color: #DDD;\n",
              "  }\n",
              "\n",
              "  [theme=dark] .colab-df-quickchart {\n",
              "      --bg-color: #3B4455;\n",
              "      --fill-color: #D2E3FC;\n",
              "      --hover-bg-color: #434B5C;\n",
              "      --hover-fill-color: #FFFFFF;\n",
              "      --disabled-bg-color: #3B4455;\n",
              "      --disabled-fill-color: #666;\n",
              "  }\n",
              "\n",
              "  .colab-df-quickchart {\n",
              "    background-color: var(--bg-color);\n",
              "    border: none;\n",
              "    border-radius: 50%;\n",
              "    cursor: pointer;\n",
              "    display: none;\n",
              "    fill: var(--fill-color);\n",
              "    height: 32px;\n",
              "    padding: 0;\n",
              "    width: 32px;\n",
              "  }\n",
              "\n",
              "  .colab-df-quickchart:hover {\n",
              "    background-color: var(--hover-bg-color);\n",
              "    box-shadow: 0 1px 2px rgba(60, 64, 67, 0.3), 0 1px 3px 1px rgba(60, 64, 67, 0.15);\n",
              "    fill: var(--button-hover-fill-color);\n",
              "  }\n",
              "\n",
              "  .colab-df-quickchart-complete:disabled,\n",
              "  .colab-df-quickchart-complete:disabled:hover {\n",
              "    background-color: var(--disabled-bg-color);\n",
              "    fill: var(--disabled-fill-color);\n",
              "    box-shadow: none;\n",
              "  }\n",
              "\n",
              "  .colab-df-spinner {\n",
              "    border: 2px solid var(--fill-color);\n",
              "    border-color: transparent;\n",
              "    border-bottom-color: var(--fill-color);\n",
              "    animation:\n",
              "      spin 1s steps(1) infinite;\n",
              "  }\n",
              "\n",
              "  @keyframes spin {\n",
              "    0% {\n",
              "      border-color: transparent;\n",
              "      border-bottom-color: var(--fill-color);\n",
              "      border-left-color: var(--fill-color);\n",
              "    }\n",
              "    20% {\n",
              "      border-color: transparent;\n",
              "      border-left-color: var(--fill-color);\n",
              "      border-top-color: var(--fill-color);\n",
              "    }\n",
              "    30% {\n",
              "      border-color: transparent;\n",
              "      border-left-color: var(--fill-color);\n",
              "      border-top-color: var(--fill-color);\n",
              "      border-right-color: var(--fill-color);\n",
              "    }\n",
              "    40% {\n",
              "      border-color: transparent;\n",
              "      border-right-color: var(--fill-color);\n",
              "      border-top-color: var(--fill-color);\n",
              "    }\n",
              "    60% {\n",
              "      border-color: transparent;\n",
              "      border-right-color: var(--fill-color);\n",
              "    }\n",
              "    80% {\n",
              "      border-color: transparent;\n",
              "      border-right-color: var(--fill-color);\n",
              "      border-bottom-color: var(--fill-color);\n",
              "    }\n",
              "    90% {\n",
              "      border-color: transparent;\n",
              "      border-bottom-color: var(--fill-color);\n",
              "    }\n",
              "  }\n",
              "</style>\n",
              "\n",
              "      <script>\n",
              "        async function quickchart(key) {\n",
              "          const quickchartButtonEl =\n",
              "            document.querySelector('#' + key + ' button');\n",
              "          quickchartButtonEl.disabled = true;  // To prevent multiple clicks.\n",
              "          quickchartButtonEl.classList.add('colab-df-spinner');\n",
              "          try {\n",
              "            const charts = await google.colab.kernel.invokeFunction(\n",
              "                'suggestCharts', [key], {});\n",
              "          } catch (error) {\n",
              "            console.error('Error during call to suggestCharts:', error);\n",
              "          }\n",
              "          quickchartButtonEl.classList.remove('colab-df-spinner');\n",
              "          quickchartButtonEl.classList.add('colab-df-quickchart-complete');\n",
              "        }\n",
              "        (() => {\n",
              "          let quickchartButtonEl =\n",
              "            document.querySelector('#df-f6826265-61fa-4c26-8b47-5d4a39e7d3fa button');\n",
              "          quickchartButtonEl.style.display =\n",
              "            google.colab.kernel.accessAllowed ? 'block' : 'none';\n",
              "        })();\n",
              "      </script>\n",
              "    </div>\n",
              "\n",
              "  <div id=\"id_0d6a7d02-a8f5-4ed5-8a74-09281a608a3b\">\n",
              "    <style>\n",
              "      .colab-df-generate {\n",
              "        background-color: #E8F0FE;\n",
              "        border: none;\n",
              "        border-radius: 50%;\n",
              "        cursor: pointer;\n",
              "        display: none;\n",
              "        fill: #1967D2;\n",
              "        height: 32px;\n",
              "        padding: 0 0 0 0;\n",
              "        width: 32px;\n",
              "      }\n",
              "\n",
              "      .colab-df-generate:hover {\n",
              "        background-color: #E2EBFA;\n",
              "        box-shadow: 0px 1px 2px rgba(60, 64, 67, 0.3), 0px 1px 3px 1px rgba(60, 64, 67, 0.15);\n",
              "        fill: #174EA6;\n",
              "      }\n",
              "\n",
              "      [theme=dark] .colab-df-generate {\n",
              "        background-color: #3B4455;\n",
              "        fill: #D2E3FC;\n",
              "      }\n",
              "\n",
              "      [theme=dark] .colab-df-generate:hover {\n",
              "        background-color: #434B5C;\n",
              "        box-shadow: 0px 1px 3px 1px rgba(0, 0, 0, 0.15);\n",
              "        filter: drop-shadow(0px 1px 2px rgba(0, 0, 0, 0.3));\n",
              "        fill: #FFFFFF;\n",
              "      }\n",
              "    </style>\n",
              "    <button class=\"colab-df-generate\" onclick=\"generateWithVariable('monthly_performance')\"\n",
              "            title=\"Generate code using this dataframe.\"\n",
              "            style=\"display:none;\">\n",
              "\n",
              "  <svg xmlns=\"http://www.w3.org/2000/svg\" height=\"24px\"viewBox=\"0 0 24 24\"\n",
              "       width=\"24px\">\n",
              "    <path d=\"M7,19H8.4L18.45,9,17,7.55,7,17.6ZM5,21V16.75L18.45,3.32a2,2,0,0,1,2.83,0l1.4,1.43a1.91,1.91,0,0,1,.58,1.4,1.91,1.91,0,0,1-.58,1.4L9.25,21ZM18.45,9,17,7.55Zm-12,3A5.31,5.31,0,0,0,4.9,8.1,5.31,5.31,0,0,0,1,6.5,5.31,5.31,0,0,0,4.9,4.9,5.31,5.31,0,0,0,6.5,1,5.31,5.31,0,0,0,8.1,4.9,5.31,5.31,0,0,0,12,6.5,5.46,5.46,0,0,0,6.5,12Z\"/>\n",
              "  </svg>\n",
              "    </button>\n",
              "    <script>\n",
              "      (() => {\n",
              "      const buttonEl =\n",
              "        document.querySelector('#id_0d6a7d02-a8f5-4ed5-8a74-09281a608a3b button.colab-df-generate');\n",
              "      buttonEl.style.display =\n",
              "        google.colab.kernel.accessAllowed ? 'block' : 'none';\n",
              "\n",
              "      buttonEl.onclick = () => {\n",
              "        google.colab.notebook.generateWithVariable('monthly_performance');\n",
              "      }\n",
              "      })();\n",
              "    </script>\n",
              "  </div>\n",
              "\n",
              "    </div>\n",
              "  </div>\n"
            ],
            "text/plain": [
              "      Month  Total_Units_Sold  Total_Wastage_Units  Total_Marketing_Spend  \\\n",
              "0   2024-01           6504602               543425             1598882.19   \n",
              "1   2024-02           4779449               403577             1083026.99   \n",
              "2   2024-03           5043509               443252             1341693.44   \n",
              "3   2024-04           5872254               497656             1354092.99   \n",
              "4   2024-05           4494979               369459             1067142.05   \n",
              "5   2024-06           4651312               363611             1346479.63   \n",
              "6   2024-07           5550597               406817             1351689.33   \n",
              "7   2024-08           4381436               302190             1076318.53   \n",
              "8   2024-09           5540003               375388             1353303.20   \n",
              "9   2024-10           4618961               316185             1081362.87   \n",
              "10  2024-11           4715356               334819             1087707.13   \n",
              "11  2024-12           5329791               430111             1629338.40   \n",
              "\n",
              "    Wastage_Rate  Marketing_Efficiency  \n",
              "0       8.354470              4.068218  \n",
              "1       8.444007              4.413047  \n",
              "2       8.788564              3.759062  \n",
              "3       8.474702              4.336670  \n",
              "4       8.219371              4.212166  \n",
              "5       7.817386              3.454424  \n",
              "6       7.329248              4.106415  \n",
              "7       6.897054              4.070761  \n",
              "8       6.775953              4.093689  \n",
              "9       6.845371              4.271426  \n",
              "10      7.100609              4.335134  \n",
              "11      8.069941              3.271138  "
            ]
          },
          "metadata": {},
          "output_type": "display_data"
        },
        {
          "name": "stdout",
          "output_type": "stream",
          "text": [
            "\n",
            "Best Sales Month:\n"
          ]
        },
        {
          "data": {
            "text/html": [
              "<div>\n",
              "<style scoped>\n",
              "    .dataframe tbody tr th:only-of-type {\n",
              "        vertical-align: middle;\n",
              "    }\n",
              "\n",
              "    .dataframe tbody tr th {\n",
              "        vertical-align: top;\n",
              "    }\n",
              "\n",
              "    .dataframe thead th {\n",
              "        text-align: right;\n",
              "    }\n",
              "</style>\n",
              "<table border=\"1\" class=\"dataframe\">\n",
              "  <thead>\n",
              "    <tr style=\"text-align: right;\">\n",
              "      <th></th>\n",
              "      <th>0</th>\n",
              "    </tr>\n",
              "  </thead>\n",
              "  <tbody>\n",
              "    <tr>\n",
              "      <th>Month</th>\n",
              "      <td>2024-01</td>\n",
              "    </tr>\n",
              "    <tr>\n",
              "      <th>Total_Units_Sold</th>\n",
              "      <td>6504602</td>\n",
              "    </tr>\n",
              "    <tr>\n",
              "      <th>Total_Wastage_Units</th>\n",
              "      <td>543425</td>\n",
              "    </tr>\n",
              "    <tr>\n",
              "      <th>Total_Marketing_Spend</th>\n",
              "      <td>1598882.19</td>\n",
              "    </tr>\n",
              "    <tr>\n",
              "      <th>Wastage_Rate</th>\n",
              "      <td>8.35447</td>\n",
              "    </tr>\n",
              "    <tr>\n",
              "      <th>Marketing_Efficiency</th>\n",
              "      <td>4.068218</td>\n",
              "    </tr>\n",
              "  </tbody>\n",
              "</table>\n",
              "</div><br><label><b>dtype:</b> object</label>"
            ],
            "text/plain": [
              "Month                       2024-01\n",
              "Total_Units_Sold            6504602\n",
              "Total_Wastage_Units          543425\n",
              "Total_Marketing_Spend    1598882.19\n",
              "Wastage_Rate                8.35447\n",
              "Marketing_Efficiency       4.068218\n",
              "Name: 0, dtype: object"
            ]
          },
          "metadata": {},
          "output_type": "display_data"
        },
        {
          "name": "stdout",
          "output_type": "stream",
          "text": [
            "\n",
            "Month with Highest Wastage:\n"
          ]
        },
        {
          "data": {
            "text/html": [
              "<div>\n",
              "<style scoped>\n",
              "    .dataframe tbody tr th:only-of-type {\n",
              "        vertical-align: middle;\n",
              "    }\n",
              "\n",
              "    .dataframe tbody tr th {\n",
              "        vertical-align: top;\n",
              "    }\n",
              "\n",
              "    .dataframe thead th {\n",
              "        text-align: right;\n",
              "    }\n",
              "</style>\n",
              "<table border=\"1\" class=\"dataframe\">\n",
              "  <thead>\n",
              "    <tr style=\"text-align: right;\">\n",
              "      <th></th>\n",
              "      <th>0</th>\n",
              "    </tr>\n",
              "  </thead>\n",
              "  <tbody>\n",
              "    <tr>\n",
              "      <th>Month</th>\n",
              "      <td>2024-01</td>\n",
              "    </tr>\n",
              "    <tr>\n",
              "      <th>Total_Units_Sold</th>\n",
              "      <td>6504602</td>\n",
              "    </tr>\n",
              "    <tr>\n",
              "      <th>Total_Wastage_Units</th>\n",
              "      <td>543425</td>\n",
              "    </tr>\n",
              "    <tr>\n",
              "      <th>Total_Marketing_Spend</th>\n",
              "      <td>1598882.19</td>\n",
              "    </tr>\n",
              "    <tr>\n",
              "      <th>Wastage_Rate</th>\n",
              "      <td>8.35447</td>\n",
              "    </tr>\n",
              "    <tr>\n",
              "      <th>Marketing_Efficiency</th>\n",
              "      <td>4.068218</td>\n",
              "    </tr>\n",
              "  </tbody>\n",
              "</table>\n",
              "</div><br><label><b>dtype:</b> object</label>"
            ],
            "text/plain": [
              "Month                       2024-01\n",
              "Total_Units_Sold            6504602\n",
              "Total_Wastage_Units          543425\n",
              "Total_Marketing_Spend    1598882.19\n",
              "Wastage_Rate                8.35447\n",
              "Marketing_Efficiency       4.068218\n",
              "Name: 0, dtype: object"
            ]
          },
          "metadata": {},
          "output_type": "display_data"
        },
        {
          "name": "stdout",
          "output_type": "stream",
          "text": [
            "\n",
            "Most Efficient Marketing Month:\n"
          ]
        },
        {
          "data": {
            "text/html": [
              "<div>\n",
              "<style scoped>\n",
              "    .dataframe tbody tr th:only-of-type {\n",
              "        vertical-align: middle;\n",
              "    }\n",
              "\n",
              "    .dataframe tbody tr th {\n",
              "        vertical-align: top;\n",
              "    }\n",
              "\n",
              "    .dataframe thead th {\n",
              "        text-align: right;\n",
              "    }\n",
              "</style>\n",
              "<table border=\"1\" class=\"dataframe\">\n",
              "  <thead>\n",
              "    <tr style=\"text-align: right;\">\n",
              "      <th></th>\n",
              "      <th>1</th>\n",
              "    </tr>\n",
              "  </thead>\n",
              "  <tbody>\n",
              "    <tr>\n",
              "      <th>Month</th>\n",
              "      <td>2024-02</td>\n",
              "    </tr>\n",
              "    <tr>\n",
              "      <th>Total_Units_Sold</th>\n",
              "      <td>4779449</td>\n",
              "    </tr>\n",
              "    <tr>\n",
              "      <th>Total_Wastage_Units</th>\n",
              "      <td>403577</td>\n",
              "    </tr>\n",
              "    <tr>\n",
              "      <th>Total_Marketing_Spend</th>\n",
              "      <td>1083026.99</td>\n",
              "    </tr>\n",
              "    <tr>\n",
              "      <th>Wastage_Rate</th>\n",
              "      <td>8.444007</td>\n",
              "    </tr>\n",
              "    <tr>\n",
              "      <th>Marketing_Efficiency</th>\n",
              "      <td>4.413047</td>\n",
              "    </tr>\n",
              "  </tbody>\n",
              "</table>\n",
              "</div><br><label><b>dtype:</b> object</label>"
            ],
            "text/plain": [
              "Month                       2024-02\n",
              "Total_Units_Sold            4779449\n",
              "Total_Wastage_Units          403577\n",
              "Total_Marketing_Spend    1083026.99\n",
              "Wastage_Rate               8.444007\n",
              "Marketing_Efficiency       4.413047\n",
              "Name: 1, dtype: object"
            ]
          },
          "metadata": {},
          "output_type": "display_data"
        }
      ],
      "source": [
        "# Convert 'Week_Number' to datetime to extract month\n",
        "weekly_sales['Week_Start_Date'] = pd.to_datetime(weekly_sales['Week_Number'] + '-1', format='%Y-W%W-%w')\n",
        "weekly_sales['Month'] = weekly_sales['Week_Start_Date'].dt.to_period('M')\n",
        "\n",
        "# Aggregate performance by month\n",
        "monthly_performance = weekly_sales.groupby('Month').agg(\n",
        "    Total_Units_Sold=('Units_Sold', 'sum'),\n",
        "    Total_Wastage_Units=('Wastage_Units', 'sum'),\n",
        "    Total_Marketing_Spend=('Marketing_Spend', 'sum')\n",
        ").reset_index()\n",
        "\n",
        "# Calculate wastage rate by month\n",
        "monthly_performance['Wastage_Rate'] = (monthly_performance['Total_Wastage_Units'] / monthly_performance['Total_Units_Sold']) * 100\n",
        "\n",
        "# Calculate marketing efficiency (Units Sold per Marketing Spend)\n",
        "monthly_performance['Marketing_Efficiency'] = monthly_performance['Total_Units_Sold'] / monthly_performance['Total_Marketing_Spend']\n",
        "\n",
        "\n",
        "print(\"Monthly Performance Summary:\")\n",
        "display(monthly_performance)\n",
        "\n",
        "print(\"\\nBest Sales Month:\")\n",
        "display(monthly_performance.loc[monthly_performance['Total_Units_Sold'].idxmax()])\n",
        "\n",
        "print(\"\\nMonth with Highest Wastage:\")\n",
        "display(monthly_performance.loc[monthly_performance['Total_Wastage_Units'].idxmax()])\n",
        "\n",
        "print(\"\\nMost Efficient Marketing Month:\")\n",
        "display(monthly_performance.loc[monthly_performance['Marketing_Efficiency'].idxmax()])"
      ]
    },
    {
      "cell_type": "markdown",
      "metadata": {
        "id": "8a2f449c"
      },
      "source": [
        "## Product Performance\n",
        "\n",
        "### Subtask:\n",
        "Identify the Top 5 best-selling products.\n",
        "Identify the Top 5 revenue-generating products.\n",
        "Highlight the Top 5 highest-wastage products (only consider products with >1,000 units sold)."
      ]
    },
    {
      "cell_type": "code",
      "execution_count": null,
      "metadata": {
        "colab": {
          "base_uri": "https://localhost:8080/",
          "height": 873
        },
        "id": "d2951170",
        "outputId": "6bab2417-9ed8-4448-e496-9f9bce47dc80"
      },
      "outputs": [
        {
          "name": "stdout",
          "output_type": "stream",
          "text": [
            "Top 5 Best-Selling Products:\n"
          ]
        },
        {
          "data": {
            "text/html": [
              "<div>\n",
              "<style scoped>\n",
              "    .dataframe tbody tr th:only-of-type {\n",
              "        vertical-align: middle;\n",
              "    }\n",
              "\n",
              "    .dataframe tbody tr th {\n",
              "        vertical-align: top;\n",
              "    }\n",
              "\n",
              "    .dataframe thead th {\n",
              "        text-align: right;\n",
              "    }\n",
              "</style>\n",
              "<table border=\"1\" class=\"dataframe\">\n",
              "  <thead>\n",
              "    <tr style=\"text-align: right;\">\n",
              "      <th></th>\n",
              "      <th></th>\n",
              "      <th>Units_Sold</th>\n",
              "    </tr>\n",
              "    <tr>\n",
              "      <th>Product_ID</th>\n",
              "      <th>Product_Name</th>\n",
              "      <th></th>\n",
              "    </tr>\n",
              "  </thead>\n",
              "  <tbody>\n",
              "    <tr>\n",
              "      <th>1031</th>\n",
              "      <th>Mozzarella 250g</th>\n",
              "      <td>2093430</td>\n",
              "    </tr>\n",
              "    <tr>\n",
              "      <th>1030</th>\n",
              "      <th>Cottage Cheese 300g</th>\n",
              "      <td>2070145</td>\n",
              "    </tr>\n",
              "    <tr>\n",
              "      <th>1033</th>\n",
              "      <th>Single Cream 300ml</th>\n",
              "      <td>2053001</td>\n",
              "    </tr>\n",
              "    <tr>\n",
              "      <th>1029</th>\n",
              "      <th>Free Range Eggs 12-pack</th>\n",
              "      <td>2049192</td>\n",
              "    </tr>\n",
              "    <tr>\n",
              "      <th>1034</th>\n",
              "      <th>Yogurt Drinks 6-pack</th>\n",
              "      <td>2046517</td>\n",
              "    </tr>\n",
              "  </tbody>\n",
              "</table>\n",
              "</div><br><label><b>dtype:</b> int64</label>"
            ],
            "text/plain": [
              "Product_ID  Product_Name           \n",
              "1031        Mozzarella 250g            2093430\n",
              "1030        Cottage Cheese 300g        2070145\n",
              "1033        Single Cream 300ml         2053001\n",
              "1029        Free Range Eggs 12-pack    2049192\n",
              "1034        Yogurt Drinks 6-pack       2046517\n",
              "Name: Units_Sold, dtype: int64"
            ]
          },
          "metadata": {},
          "output_type": "display_data"
        },
        {
          "name": "stdout",
          "output_type": "stream",
          "text": [
            "\n",
            "Top 5 Revenue-Generating Products:\n"
          ]
        },
        {
          "data": {
            "text/html": [
              "<div>\n",
              "<style scoped>\n",
              "    .dataframe tbody tr th:only-of-type {\n",
              "        vertical-align: middle;\n",
              "    }\n",
              "\n",
              "    .dataframe tbody tr th {\n",
              "        vertical-align: top;\n",
              "    }\n",
              "\n",
              "    .dataframe thead th {\n",
              "        text-align: right;\n",
              "    }\n",
              "</style>\n",
              "<table border=\"1\" class=\"dataframe\">\n",
              "  <thead>\n",
              "    <tr style=\"text-align: right;\">\n",
              "      <th></th>\n",
              "      <th></th>\n",
              "      <th>Revenue</th>\n",
              "    </tr>\n",
              "    <tr>\n",
              "      <th>Product_ID</th>\n",
              "      <th>Product_Name</th>\n",
              "      <th></th>\n",
              "    </tr>\n",
              "  </thead>\n",
              "  <tbody>\n",
              "    <tr>\n",
              "      <th>1031</th>\n",
              "      <th>Mozzarella 250g</th>\n",
              "      <td>5927783.58</td>\n",
              "    </tr>\n",
              "    <tr>\n",
              "      <th>1034</th>\n",
              "      <th>Yogurt Drinks 6-pack</th>\n",
              "      <td>5779538.63</td>\n",
              "    </tr>\n",
              "    <tr>\n",
              "      <th>1028</th>\n",
              "      <th>Butter 250g</th>\n",
              "      <td>5771307.62</td>\n",
              "    </tr>\n",
              "    <tr>\n",
              "      <th>1024</th>\n",
              "      <th>Whole Milk 4-pint</th>\n",
              "      <td>5761269.32</td>\n",
              "    </tr>\n",
              "    <tr>\n",
              "      <th>1029</th>\n",
              "      <th>Free Range Eggs 12-pack</th>\n",
              "      <td>5755945.50</td>\n",
              "    </tr>\n",
              "  </tbody>\n",
              "</table>\n",
              "</div><br><label><b>dtype:</b> float64</label>"
            ],
            "text/plain": [
              "Product_ID  Product_Name           \n",
              "1031        Mozzarella 250g            5927783.58\n",
              "1034        Yogurt Drinks 6-pack       5779538.63\n",
              "1028        Butter 250g                5771307.62\n",
              "1024        Whole Milk 4-pint          5761269.32\n",
              "1029        Free Range Eggs 12-pack    5755945.50\n",
              "Name: Revenue, dtype: float64"
            ]
          },
          "metadata": {},
          "output_type": "display_data"
        },
        {
          "name": "stdout",
          "output_type": "stream",
          "text": [
            "\n",
            "Top 5 Highest-Wastage Products (with > 1000 units sold):\n"
          ]
        },
        {
          "data": {
            "text/html": [
              "<div>\n",
              "<style scoped>\n",
              "    .dataframe tbody tr th:only-of-type {\n",
              "        vertical-align: middle;\n",
              "    }\n",
              "\n",
              "    .dataframe tbody tr th {\n",
              "        vertical-align: top;\n",
              "    }\n",
              "\n",
              "    .dataframe thead th {\n",
              "        text-align: right;\n",
              "    }\n",
              "</style>\n",
              "<table border=\"1\" class=\"dataframe\">\n",
              "  <thead>\n",
              "    <tr style=\"text-align: right;\">\n",
              "      <th></th>\n",
              "      <th></th>\n",
              "      <th>Wastage_Units</th>\n",
              "    </tr>\n",
              "    <tr>\n",
              "      <th>Product_ID</th>\n",
              "      <th>Product_Name</th>\n",
              "      <th></th>\n",
              "    </tr>\n",
              "  </thead>\n",
              "  <tbody>\n",
              "    <tr>\n",
              "      <th>1001</th>\n",
              "      <th>White Sandwich Loaf</th>\n",
              "      <td>229905</td>\n",
              "    </tr>\n",
              "    <tr>\n",
              "      <th>1011</th>\n",
              "      <th>Donuts 8-pack</th>\n",
              "      <td>229869</td>\n",
              "    </tr>\n",
              "    <tr>\n",
              "      <th>1002</th>\n",
              "      <th>Croissant 4-pack</th>\n",
              "      <td>228819</td>\n",
              "    </tr>\n",
              "    <tr>\n",
              "      <th>1009</th>\n",
              "      <th>Banana Bread Loaf</th>\n",
              "      <td>227480</td>\n",
              "    </tr>\n",
              "    <tr>\n",
              "      <th>1006</th>\n",
              "      <th>Cinnamon Rolls 4-pack</th>\n",
              "      <td>224051</td>\n",
              "    </tr>\n",
              "  </tbody>\n",
              "</table>\n",
              "</div><br><label><b>dtype:</b> int64</label>"
            ],
            "text/plain": [
              "Product_ID  Product_Name         \n",
              "1001        White Sandwich Loaf      229905\n",
              "1011        Donuts 8-pack            229869\n",
              "1002        Croissant 4-pack         228819\n",
              "1009        Banana Bread Loaf        227480\n",
              "1006        Cinnamon Rolls 4-pack    224051\n",
              "Name: Wastage_Units, dtype: int64"
            ]
          },
          "metadata": {},
          "output_type": "display_data"
        }
      ],
      "source": [
        "# Merge weekly_sales with product_detail to get product names\n",
        "sales_with_product = weekly_sales.merge(product_detail, on='Product_ID')\n",
        "\n",
        "# Calculate total units sold by product\n",
        "product_sales = sales_with_product.groupby(['Product_ID', 'Product_Name'])['Units_Sold'].sum().sort_values(ascending=False)\n",
        "\n",
        "print(\"Top 5 Best-Selling Products:\")\n",
        "display(product_sales.head())\n",
        "\n",
        "# Calculate total revenue by product\n",
        "sales_with_product['Revenue'] = sales_with_product['Units_Sold'] * sales_with_product['Price']\n",
        "product_revenue = sales_with_product.groupby(['Product_ID', 'Product_Name'])['Revenue'].sum().sort_values(ascending=False)\n",
        "\n",
        "print(\"\\nTop 5 Revenue-Generating Products:\")\n",
        "display(product_revenue.head())\n",
        "\n",
        "# Calculate total wastage units by product\n",
        "product_wastage = sales_with_product.groupby(['Product_ID', 'Product_Name'])['Wastage_Units'].sum()\n",
        "\n",
        "# Identify products with > 1000 units sold for wastage analysis\n",
        "products_over_1000_sold = product_sales[product_sales > 1000].index.get_level_values('Product_ID')\n",
        "wastage_of_high_sales_products = product_wastage[product_wastage.index.get_level_values('Product_ID').isin(products_over_1000_sold)].sort_values(ascending=False)\n",
        "\n",
        "print(\"\\nTop 5 Highest-Wastage Products (with > 1000 units sold):\")\n",
        "display(wastage_of_high_sales_products.head())"
      ]
    },
    {
      "cell_type": "markdown",
      "metadata": {
        "id": "0b9da51a"
      },
      "source": [
        "## Marketing Spend Effectiveness\n",
        "\n",
        "### Subtask:\n",
        "Calculate the correlation between marketing spend and sales.\n",
        "Estimate the average marketing cost per unit sold."
      ]
    },
    {
      "cell_type": "code",
      "execution_count": null,
      "metadata": {
        "colab": {
          "base_uri": "https://localhost:8080/"
        },
        "id": "97c979e1",
        "outputId": "22c1414c-246a-4451-e7be-ac9f3b3593b9"
      },
      "outputs": [
        {
          "name": "stdout",
          "output_type": "stream",
          "text": [
            "Correlation between Marketing Spend and Units Sold: 0.04\n",
            "Average Marketing Cost per Unit Sold: £0.25\n"
          ]
        }
      ],
      "source": [
        "# Calculate the correlation between marketing spend and sales\n",
        "marketing_sales_correlation = weekly_sales['Marketing_Spend'].corr(weekly_sales['Units_Sold'])\n",
        "\n",
        "print(f\"Correlation between Marketing Spend and Units Sold: {marketing_sales_correlation:.2f}\")\n",
        "\n",
        "# Estimate the average marketing cost per unit sold\n",
        "# Avoid division by zero if total units sold is 0\n",
        "total_marketing_spend = weekly_sales['Marketing_Spend'].sum()\n",
        "total_units_sold = weekly_sales['Units_Sold'].sum()\n",
        "\n",
        "average_marketing_cost_per_unit = total_marketing_spend / total_units_sold if total_units_sold > 0 else 0\n",
        "\n",
        "print(f\"Average Marketing Cost per Unit Sold: £{average_marketing_cost_per_unit:.2f}\")"
      ]
    },
    {
      "cell_type": "markdown",
      "metadata": {
        "id": "678fa6fe"
      },
      "source": [
        "## Promotion Effectiveness\n",
        "\n",
        "### Subtask:\n",
        "Analyze the relationship between discount levels and sales.\n",
        "Identify which discount percentage drives the highest sales.\n",
        "Compare sales at the best discount vs. no discount, and calculate the percentage sales lift."
      ]
    },
    {
      "cell_type": "code",
      "execution_count": null,
      "metadata": {
        "colab": {
          "base_uri": "https://localhost:8080/",
          "height": 365
        },
        "id": "27013c5d",
        "outputId": "01b7ebd4-6290-4492-e319-398e4763e533"
      },
      "outputs": [
        {
          "name": "stdout",
          "output_type": "stream",
          "text": [
            "Average Units Sold by Discount Percentage:\n"
          ]
        },
        {
          "data": {
            "application/vnd.google.colaboratory.intrinsic+json": {
              "summary": "{\n  \"name\": \"discount_sales\",\n  \"rows\": 6,\n  \"fields\": [\n    {\n      \"column\": \"Discount_Percent\",\n      \"properties\": {\n        \"dtype\": \"number\",\n        \"std\": 9,\n        \"min\": 0,\n        \"max\": 25,\n        \"num_unique_values\": 6,\n        \"samples\": [\n          0,\n          5,\n          25\n        ],\n        \"semantic_type\": \"\",\n        \"description\": \"\"\n      }\n    },\n    {\n      \"column\": \"Units_Sold\",\n      \"properties\": {\n        \"dtype\": \"number\",\n        \"std\": 296.42426965479433,\n        \"min\": 1574.2190770942727,\n        \"max\": 2382.4416184971096,\n        \"num_unique_values\": 6,\n        \"samples\": [\n          1574.2190770942727,\n          1656.594867807154,\n          2382.4416184971096\n        ],\n        \"semantic_type\": \"\",\n        \"description\": \"\"\n      }\n    }\n  ]\n}",
              "type": "dataframe",
              "variable_name": "discount_sales"
            },
            "text/html": [
              "\n",
              "  <div id=\"df-a022e729-6e00-4184-adc8-bb0d4ed16de9\" class=\"colab-df-container\">\n",
              "    <div>\n",
              "<style scoped>\n",
              "    .dataframe tbody tr th:only-of-type {\n",
              "        vertical-align: middle;\n",
              "    }\n",
              "\n",
              "    .dataframe tbody tr th {\n",
              "        vertical-align: top;\n",
              "    }\n",
              "\n",
              "    .dataframe thead th {\n",
              "        text-align: right;\n",
              "    }\n",
              "</style>\n",
              "<table border=\"1\" class=\"dataframe\">\n",
              "  <thead>\n",
              "    <tr style=\"text-align: right;\">\n",
              "      <th></th>\n",
              "      <th>Discount_Percent</th>\n",
              "      <th>Units_Sold</th>\n",
              "    </tr>\n",
              "  </thead>\n",
              "  <tbody>\n",
              "    <tr>\n",
              "      <th>0</th>\n",
              "      <td>0</td>\n",
              "      <td>1574.219077</td>\n",
              "    </tr>\n",
              "    <tr>\n",
              "      <th>1</th>\n",
              "      <td>5</td>\n",
              "      <td>1656.594868</td>\n",
              "    </tr>\n",
              "    <tr>\n",
              "      <th>2</th>\n",
              "      <td>10</td>\n",
              "      <td>1786.886767</td>\n",
              "    </tr>\n",
              "    <tr>\n",
              "      <th>3</th>\n",
              "      <td>15</td>\n",
              "      <td>1875.548521</td>\n",
              "    </tr>\n",
              "    <tr>\n",
              "      <th>4</th>\n",
              "      <td>20</td>\n",
              "      <td>2068.336656</td>\n",
              "    </tr>\n",
              "    <tr>\n",
              "      <th>5</th>\n",
              "      <td>25</td>\n",
              "      <td>2382.441618</td>\n",
              "    </tr>\n",
              "  </tbody>\n",
              "</table>\n",
              "</div>\n",
              "    <div class=\"colab-df-buttons\">\n",
              "\n",
              "  <div class=\"colab-df-container\">\n",
              "    <button class=\"colab-df-convert\" onclick=\"convertToInteractive('df-a022e729-6e00-4184-adc8-bb0d4ed16de9')\"\n",
              "            title=\"Convert this dataframe to an interactive table.\"\n",
              "            style=\"display:none;\">\n",
              "\n",
              "  <svg xmlns=\"http://www.w3.org/2000/svg\" height=\"24px\" viewBox=\"0 -960 960 960\">\n",
              "    <path d=\"M120-120v-720h720v720H120Zm60-500h600v-160H180v160Zm220 220h160v-160H400v160Zm0 220h160v-160H400v160ZM180-400h160v-160H180v160Zm440 0h160v-160H620v160ZM180-180h160v-160H180v160Zm440 0h160v-160H620v160Z\"/>\n",
              "  </svg>\n",
              "    </button>\n",
              "\n",
              "  <style>\n",
              "    .colab-df-container {\n",
              "      display:flex;\n",
              "      gap: 12px;\n",
              "    }\n",
              "\n",
              "    .colab-df-convert {\n",
              "      background-color: #E8F0FE;\n",
              "      border: none;\n",
              "      border-radius: 50%;\n",
              "      cursor: pointer;\n",
              "      display: none;\n",
              "      fill: #1967D2;\n",
              "      height: 32px;\n",
              "      padding: 0 0 0 0;\n",
              "      width: 32px;\n",
              "    }\n",
              "\n",
              "    .colab-df-convert:hover {\n",
              "      background-color: #E2EBFA;\n",
              "      box-shadow: 0px 1px 2px rgba(60, 64, 67, 0.3), 0px 1px 3px 1px rgba(60, 64, 67, 0.15);\n",
              "      fill: #174EA6;\n",
              "    }\n",
              "\n",
              "    .colab-df-buttons div {\n",
              "      margin-bottom: 4px;\n",
              "    }\n",
              "\n",
              "    [theme=dark] .colab-df-convert {\n",
              "      background-color: #3B4455;\n",
              "      fill: #D2E3FC;\n",
              "    }\n",
              "\n",
              "    [theme=dark] .colab-df-convert:hover {\n",
              "      background-color: #434B5C;\n",
              "      box-shadow: 0px 1px 3px 1px rgba(0, 0, 0, 0.15);\n",
              "      filter: drop-shadow(0px 1px 2px rgba(0, 0, 0, 0.3));\n",
              "      fill: #FFFFFF;\n",
              "    }\n",
              "  </style>\n",
              "\n",
              "    <script>\n",
              "      const buttonEl =\n",
              "        document.querySelector('#df-a022e729-6e00-4184-adc8-bb0d4ed16de9 button.colab-df-convert');\n",
              "      buttonEl.style.display =\n",
              "        google.colab.kernel.accessAllowed ? 'block' : 'none';\n",
              "\n",
              "      async function convertToInteractive(key) {\n",
              "        const element = document.querySelector('#df-a022e729-6e00-4184-adc8-bb0d4ed16de9');\n",
              "        const dataTable =\n",
              "          await google.colab.kernel.invokeFunction('convertToInteractive',\n",
              "                                                    [key], {});\n",
              "        if (!dataTable) return;\n",
              "\n",
              "        const docLinkHtml = 'Like what you see? Visit the ' +\n",
              "          '<a target=\"_blank\" href=https://colab.research.google.com/notebooks/data_table.ipynb>data table notebook</a>'\n",
              "          + ' to learn more about interactive tables.';\n",
              "        element.innerHTML = '';\n",
              "        dataTable['output_type'] = 'display_data';\n",
              "        await google.colab.output.renderOutput(dataTable, element);\n",
              "        const docLink = document.createElement('div');\n",
              "        docLink.innerHTML = docLinkHtml;\n",
              "        element.appendChild(docLink);\n",
              "      }\n",
              "    </script>\n",
              "  </div>\n",
              "\n",
              "\n",
              "    <div id=\"df-c7532546-2e19-47de-a761-826221cf8b6a\">\n",
              "      <button class=\"colab-df-quickchart\" onclick=\"quickchart('df-c7532546-2e19-47de-a761-826221cf8b6a')\"\n",
              "                title=\"Suggest charts\"\n",
              "                style=\"display:none;\">\n",
              "\n",
              "<svg xmlns=\"http://www.w3.org/2000/svg\" height=\"24px\"viewBox=\"0 0 24 24\"\n",
              "     width=\"24px\">\n",
              "    <g>\n",
              "        <path d=\"M19 3H5c-1.1 0-2 .9-2 2v14c0 1.1.9 2 2 2h14c1.1 0 2-.9 2-2V5c0-1.1-.9-2-2-2zM9 17H7v-7h2v7zm4 0h-2V7h2v10zm4 0h-2v-4h2v4z\"/>\n",
              "    </g>\n",
              "</svg>\n",
              "      </button>\n",
              "\n",
              "<style>\n",
              "  .colab-df-quickchart {\n",
              "      --bg-color: #E8F0FE;\n",
              "      --fill-color: #1967D2;\n",
              "      --hover-bg-color: #E2EBFA;\n",
              "      --hover-fill-color: #174EA6;\n",
              "      --disabled-fill-color: #AAA;\n",
              "      --disabled-bg-color: #DDD;\n",
              "  }\n",
              "\n",
              "  [theme=dark] .colab-df-quickchart {\n",
              "      --bg-color: #3B4455;\n",
              "      --fill-color: #D2E3FC;\n",
              "      --hover-bg-color: #434B5C;\n",
              "      --hover-fill-color: #FFFFFF;\n",
              "      --disabled-bg-color: #3B4455;\n",
              "      --disabled-fill-color: #666;\n",
              "  }\n",
              "\n",
              "  .colab-df-quickchart {\n",
              "    background-color: var(--bg-color);\n",
              "    border: none;\n",
              "    border-radius: 50%;\n",
              "    cursor: pointer;\n",
              "    display: none;\n",
              "    fill: var(--fill-color);\n",
              "    height: 32px;\n",
              "    padding: 0;\n",
              "    width: 32px;\n",
              "  }\n",
              "\n",
              "  .colab-df-quickchart:hover {\n",
              "    background-color: var(--hover-bg-color);\n",
              "    box-shadow: 0 1px 2px rgba(60, 64, 67, 0.3), 0 1px 3px 1px rgba(60, 64, 67, 0.15);\n",
              "    fill: var(--button-hover-fill-color);\n",
              "  }\n",
              "\n",
              "  .colab-df-quickchart-complete:disabled,\n",
              "  .colab-df-quickchart-complete:disabled:hover {\n",
              "    background-color: var(--disabled-bg-color);\n",
              "    fill: var(--disabled-fill-color);\n",
              "    box-shadow: none;\n",
              "  }\n",
              "\n",
              "  .colab-df-spinner {\n",
              "    border: 2px solid var(--fill-color);\n",
              "    border-color: transparent;\n",
              "    border-bottom-color: var(--fill-color);\n",
              "    animation:\n",
              "      spin 1s steps(1) infinite;\n",
              "  }\n",
              "\n",
              "  @keyframes spin {\n",
              "    0% {\n",
              "      border-color: transparent;\n",
              "      border-bottom-color: var(--fill-color);\n",
              "      border-left-color: var(--fill-color);\n",
              "    }\n",
              "    20% {\n",
              "      border-color: transparent;\n",
              "      border-left-color: var(--fill-color);\n",
              "      border-top-color: var(--fill-color);\n",
              "    }\n",
              "    30% {\n",
              "      border-color: transparent;\n",
              "      border-left-color: var(--fill-color);\n",
              "      border-top-color: var(--fill-color);\n",
              "      border-right-color: var(--fill-color);\n",
              "    }\n",
              "    40% {\n",
              "      border-color: transparent;\n",
              "      border-right-color: var(--fill-color);\n",
              "      border-top-color: var(--fill-color);\n",
              "    }\n",
              "    60% {\n",
              "      border-color: transparent;\n",
              "      border-right-color: var(--fill-color);\n",
              "    }\n",
              "    80% {\n",
              "      border-color: transparent;\n",
              "      border-right-color: var(--fill-color);\n",
              "      border-bottom-color: var(--fill-color);\n",
              "    }\n",
              "    90% {\n",
              "      border-color: transparent;\n",
              "      border-bottom-color: var(--fill-color);\n",
              "    }\n",
              "  }\n",
              "</style>\n",
              "\n",
              "      <script>\n",
              "        async function quickchart(key) {\n",
              "          const quickchartButtonEl =\n",
              "            document.querySelector('#' + key + ' button');\n",
              "          quickchartButtonEl.disabled = true;  // To prevent multiple clicks.\n",
              "          quickchartButtonEl.classList.add('colab-df-spinner');\n",
              "          try {\n",
              "            const charts = await google.colab.kernel.invokeFunction(\n",
              "                'suggestCharts', [key], {});\n",
              "          } catch (error) {\n",
              "            console.error('Error during call to suggestCharts:', error);\n",
              "          }\n",
              "          quickchartButtonEl.classList.remove('colab-df-spinner');\n",
              "          quickchartButtonEl.classList.add('colab-df-quickchart-complete');\n",
              "        }\n",
              "        (() => {\n",
              "          let quickchartButtonEl =\n",
              "            document.querySelector('#df-c7532546-2e19-47de-a761-826221cf8b6a button');\n",
              "          quickchartButtonEl.style.display =\n",
              "            google.colab.kernel.accessAllowed ? 'block' : 'none';\n",
              "        })();\n",
              "      </script>\n",
              "    </div>\n",
              "\n",
              "  <div id=\"id_9bdf6eef-d009-4551-b7a0-45d0c20e3fe0\">\n",
              "    <style>\n",
              "      .colab-df-generate {\n",
              "        background-color: #E8F0FE;\n",
              "        border: none;\n",
              "        border-radius: 50%;\n",
              "        cursor: pointer;\n",
              "        display: none;\n",
              "        fill: #1967D2;\n",
              "        height: 32px;\n",
              "        padding: 0 0 0 0;\n",
              "        width: 32px;\n",
              "      }\n",
              "\n",
              "      .colab-df-generate:hover {\n",
              "        background-color: #E2EBFA;\n",
              "        box-shadow: 0px 1px 2px rgba(60, 64, 67, 0.3), 0px 1px 3px 1px rgba(60, 64, 67, 0.15);\n",
              "        fill: #174EA6;\n",
              "      }\n",
              "\n",
              "      [theme=dark] .colab-df-generate {\n",
              "        background-color: #3B4455;\n",
              "        fill: #D2E3FC;\n",
              "      }\n",
              "\n",
              "      [theme=dark] .colab-df-generate:hover {\n",
              "        background-color: #434B5C;\n",
              "        box-shadow: 0px 1px 3px 1px rgba(0, 0, 0, 0.15);\n",
              "        filter: drop-shadow(0px 1px 2px rgba(0, 0, 0, 0.3));\n",
              "        fill: #FFFFFF;\n",
              "      }\n",
              "    </style>\n",
              "    <button class=\"colab-df-generate\" onclick=\"generateWithVariable('discount_sales')\"\n",
              "            title=\"Generate code using this dataframe.\"\n",
              "            style=\"display:none;\">\n",
              "\n",
              "  <svg xmlns=\"http://www.w3.org/2000/svg\" height=\"24px\"viewBox=\"0 0 24 24\"\n",
              "       width=\"24px\">\n",
              "    <path d=\"M7,19H8.4L18.45,9,17,7.55,7,17.6ZM5,21V16.75L18.45,3.32a2,2,0,0,1,2.83,0l1.4,1.43a1.91,1.91,0,0,1,.58,1.4,1.91,1.91,0,0,1-.58,1.4L9.25,21ZM18.45,9,17,7.55Zm-12,3A5.31,5.31,0,0,0,4.9,8.1,5.31,5.31,0,0,0,1,6.5,5.31,5.31,0,0,0,4.9,4.9,5.31,5.31,0,0,0,6.5,1,5.31,5.31,0,0,0,8.1,4.9,5.31,5.31,0,0,0,12,6.5,5.46,5.46,0,0,0,6.5,12Z\"/>\n",
              "  </svg>\n",
              "    </button>\n",
              "    <script>\n",
              "      (() => {\n",
              "      const buttonEl =\n",
              "        document.querySelector('#id_9bdf6eef-d009-4551-b7a0-45d0c20e3fe0 button.colab-df-generate');\n",
              "      buttonEl.style.display =\n",
              "        google.colab.kernel.accessAllowed ? 'block' : 'none';\n",
              "\n",
              "      buttonEl.onclick = () => {\n",
              "        google.colab.notebook.generateWithVariable('discount_sales');\n",
              "      }\n",
              "      })();\n",
              "    </script>\n",
              "  </div>\n",
              "\n",
              "    </div>\n",
              "  </div>\n"
            ],
            "text/plain": [
              "   Discount_Percent   Units_Sold\n",
              "0                 0  1574.219077\n",
              "1                 5  1656.594868\n",
              "2                10  1786.886767\n",
              "3                15  1875.548521\n",
              "4                20  2068.336656\n",
              "5                25  2382.441618"
            ]
          },
          "metadata": {},
          "output_type": "display_data"
        },
        {
          "name": "stdout",
          "output_type": "stream",
          "text": [
            "\n",
            "Discount Percentage with Highest Average Sales: 25.0%\n",
            "Average Units Sold at Best Discount: 2382.44\n",
            "\n",
            "Average Units Sold with No Discount: 1574.22\n",
            "Sales Lift at 25.0% Discount vs. No Discount: 51.34%\n"
          ]
        }
      ],
      "source": [
        "# Analyze the relationship between discount levels and sales\n",
        "discount_sales = weekly_sales.groupby('Discount_Percent')['Units_Sold'].mean().reset_index()\n",
        "\n",
        "print(\"Average Units Sold by Discount Percentage:\")\n",
        "display(discount_sales)\n",
        "\n",
        "# Identify which discount percentage drives the highest sales\n",
        "best_discount = discount_sales.loc[discount_sales['Units_Sold'].idxmax()]\n",
        "\n",
        "print(f\"\\nDiscount Percentage with Highest Average Sales: {best_discount['Discount_Percent']}%\")\n",
        "print(f\"Average Units Sold at Best Discount: {best_discount['Units_Sold']:.2f}\")\n",
        "\n",
        "# Compare sales at the best discount vs. no discount and calculate the percentage sales lift\n",
        "no_discount_sales = discount_sales[discount_sales['Discount_Percent'] == 0]['Units_Sold'].values[0]\n",
        "\n",
        "sales_lift = ((best_discount['Units_Sold'] - no_discount_sales) / no_discount_sales) * 100\n",
        "\n",
        "print(f\"\\nAverage Units Sold with No Discount: {no_discount_sales:.2f}\")\n",
        "print(f\"Sales Lift at {best_discount['Discount_Percent']}% Discount vs. No Discount: {sales_lift:.2f}%\")"
      ]
    },
    {
      "cell_type": "markdown",
      "metadata": {
        "id": "2acf403d"
      },
      "source": [
        "## Pricing Strategy Analysis\n",
        "\n",
        "### Subtask:\n",
        "Segment products into three price bands: budget (< £5), mid-range (£5–10), and premium (≥ £10).\n",
        "Report the percentage distribution across these price bands."
      ]
    },
    {
      "cell_type": "code",
      "execution_count": null,
      "metadata": {
        "colab": {
          "base_uri": "https://localhost:8080/",
          "height": 228
        },
        "id": "f7f62ced",
        "outputId": "2bd90037-9882-4f65-927b-2d991fed6823"
      },
      "outputs": [
        {
          "name": "stdout",
          "output_type": "stream",
          "text": [
            "Percentage Distribution Across Price Bands:\n"
          ]
        },
        {
          "data": {
            "text/plain": [
              "Price_Band\n",
              "Budget (<£5)         71.383547\n",
              "Mid-Range (£5-10)    23.942308\n",
              "Premium (≥£10)        4.674145\n",
              "Name: proportion, dtype: float64"
            ]
          },
          "metadata": {},
          "output_type": "display_data"
        }
      ],
      "source": [
        "# Define price bands\n",
        "def categorize_price(price):\n",
        "    if price < 5:\n",
        "        return 'Budget (<£5)'\n",
        "    elif 5 <= price < 10:\n",
        "        return 'Mid-Range (£5-10)'\n",
        "    else:\n",
        "        return 'Premium (≥£10)'\n",
        "\n",
        "# Apply price banding to the weekly_sales data\n",
        "weekly_sales['Price_Band'] = weekly_sales['Price'].apply(categorize_price)\n",
        "\n",
        "# Calculate the percentage distribution across price bands\n",
        "price_band_distribution = weekly_sales['Price_Band'].value_counts(normalize=True) * 100\n",
        "\n",
        "print(\"Percentage Distribution Across Price Bands:\")\n",
        "display(price_band_distribution)"
      ]
    },
    {
      "cell_type": "code",
      "execution_count": null,
      "metadata": {},
      "outputs": [
        {
          "name": "stdout",
          "output_type": "stream",
          "text": [
            "Environment working!\n"
          ]
        }
      ],
      "source": [
        "import pandas as pd\n",
        "import matplotlib.pyplot as plt\n",
        "print(\"Environment working!\")\n"
      ]
    },
    {
      "cell_type": "code",
      "execution_count": null,
      "metadata": {},
      "outputs": [],
      "source": []
    }
  ],
  "metadata": {
    "colab": {
      "provenance": []
    },
    "kernelspec": {
      "display_name": "venv",
      "language": "python",
      "name": "python3"
    },
    "language_info": {
      "codemirror_mode": {
        "name": "ipython",
        "version": 3
      },
      "file_extension": ".py",
      "mimetype": "text/x-python",
      "name": "python",
      "nbconvert_exporter": "python",
      "pygments_lexer": "ipython3",
      "version": "3.13.7"
    }
  },
  "nbformat": 4,
  "nbformat_minor": 0
}
